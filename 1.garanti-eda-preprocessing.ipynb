{
 "cells": [
  {
   "cell_type": "code",
   "execution_count": 1,
   "metadata": {
    "_cell_guid": "b1076dfc-b9ad-4769-8c92-a6c4dae69d19",
    "_uuid": "8f2839f25d086af736a60e9eeb907d3b93b6e0e5",
    "execution": {
     "iopub.execute_input": "2020-11-13T20:55:55.391360Z",
     "iopub.status.busy": "2020-11-13T20:55:55.390563Z",
     "iopub.status.idle": "2020-11-13T20:55:56.334739Z",
     "shell.execute_reply": "2020-11-13T20:55:56.334104Z"
    },
    "papermill": {
     "duration": 0.985396,
     "end_time": "2020-11-13T20:55:56.334868",
     "exception": false,
     "start_time": "2020-11-13T20:55:55.349472",
     "status": "completed"
    },
    "tags": []
   },
   "outputs": [],
   "source": [
    "# import packages\n",
    "import csv\n",
    "import pandas as pd\n",
    "import numpy as np\n",
    "import matplotlib.pyplot as plt\n",
    "from sklearn.preprocessing import LabelEncoder\n",
    "import seaborn as sns"
   ]
  },
  {
   "cell_type": "code",
   "execution_count": 2,
   "metadata": {
    "_cell_guid": "79c7e3d0-c299-4dcb-8224-4455121ee9b0",
    "_uuid": "d629ff2d2480ee46fbb7e2d37f6b5fab8052498a",
    "execution": {
     "iopub.execute_input": "2020-11-13T20:55:56.412487Z",
     "iopub.status.busy": "2020-11-13T20:55:56.411826Z",
     "iopub.status.idle": "2020-11-13T20:55:57.414041Z",
     "shell.execute_reply": "2020-11-13T20:55:57.413105Z"
    },
    "papermill": {
     "duration": 1.046931,
     "end_time": "2020-11-13T20:55:57.414184",
     "exception": false,
     "start_time": "2020-11-13T20:55:56.367253",
     "status": "completed"
    },
    "tags": []
   },
   "outputs": [],
   "source": [
    "# read data\n",
    "train_df = pd.read_csv('../input/garanti/train.csv')\n",
    "test_df = pd.read_csv('../input/garanti/test_input.csv')\n",
    "submission = pd.read_csv('../input/garanti/sample_submission.csv')"
   ]
  },
  {
   "cell_type": "code",
   "execution_count": 3,
   "metadata": {
    "execution": {
     "iopub.execute_input": "2020-11-13T20:55:57.511528Z",
     "iopub.status.busy": "2020-11-13T20:55:57.510492Z",
     "iopub.status.idle": "2020-11-13T20:55:57.847935Z",
     "shell.execute_reply": "2020-11-13T20:55:57.848500Z"
    },
    "papermill": {
     "duration": 0.400374,
     "end_time": "2020-11-13T20:55:57.848661",
     "exception": false,
     "start_time": "2020-11-13T20:55:57.448287",
     "status": "completed"
    },
    "tags": []
   },
   "outputs": [
    {
     "data": {
      "text/html": [
       "<div>\n",
       "<style scoped>\n",
       "    .dataframe tbody tr th:only-of-type {\n",
       "        vertical-align: middle;\n",
       "    }\n",
       "\n",
       "    .dataframe tbody tr th {\n",
       "        vertical-align: top;\n",
       "    }\n",
       "\n",
       "    .dataframe thead th {\n",
       "        text-align: right;\n",
       "    }\n",
       "</style>\n",
       "<table border=\"1\" class=\"dataframe\">\n",
       "  <thead>\n",
       "    <tr style=\"text-align: right;\">\n",
       "      <th></th>\n",
       "      <th>CUSTNBR</th>\n",
       "      <th>ADDCONTAMNT</th>\n",
       "      <th>ACCMVMTAVG</th>\n",
       "      <th>ACCAMNTAVG03</th>\n",
       "      <th>ACCACVNUM12</th>\n",
       "      <th>ACCAMNTAVG12</th>\n",
       "      <th>CARDDINSUM12</th>\n",
       "      <th>DISTNUM12</th>\n",
       "      <th>INTPHNNUM03</th>\n",
       "      <th>INTLOGNUM12</th>\n",
       "      <th>...</th>\n",
       "      <th>CONTPAIDAMNT09</th>\n",
       "      <th>CONTPAIDAMNT10</th>\n",
       "      <th>CONTPAIDAMNT11</th>\n",
       "      <th>CONTDEBTNUM</th>\n",
       "      <th>CONTMONTHAMNT</th>\n",
       "      <th>RTRNDESVAMNT</th>\n",
       "      <th>MAXTIMECONTR</th>\n",
       "      <th>CONTCOLLAMNT</th>\n",
       "      <th>LASTAUTOPAYTIME</th>\n",
       "      <th>TIMEDEPAVG12</th>\n",
       "    </tr>\n",
       "  </thead>\n",
       "  <tbody>\n",
       "    <tr>\n",
       "      <th>count</th>\n",
       "      <td>173589.000000</td>\n",
       "      <td>1.735890e+05</td>\n",
       "      <td>1.404800e+05</td>\n",
       "      <td>1.385090e+05</td>\n",
       "      <td>154577.000000</td>\n",
       "      <td>1.322230e+05</td>\n",
       "      <td>123997.000000</td>\n",
       "      <td>173589.000000</td>\n",
       "      <td>173589.000000</td>\n",
       "      <td>173589.000000</td>\n",
       "      <td>...</td>\n",
       "      <td>128955.000000</td>\n",
       "      <td>128955.000000</td>\n",
       "      <td>128955.000000</td>\n",
       "      <td>173589.000000</td>\n",
       "      <td>173589.000000</td>\n",
       "      <td>1.735890e+05</td>\n",
       "      <td>173589.000000</td>\n",
       "      <td>1.735890e+05</td>\n",
       "      <td>66349.000000</td>\n",
       "      <td>3.684100e+04</td>\n",
       "    </tr>\n",
       "    <tr>\n",
       "      <th>mean</th>\n",
       "      <td>85136.469154</td>\n",
       "      <td>7.829263e+02</td>\n",
       "      <td>1.176651e+04</td>\n",
       "      <td>1.233938e+04</td>\n",
       "      <td>89.568875</td>\n",
       "      <td>6.169715e+03</td>\n",
       "      <td>2232.150375</td>\n",
       "      <td>124.800022</td>\n",
       "      <td>553.256710</td>\n",
       "      <td>259.088773</td>\n",
       "      <td>...</td>\n",
       "      <td>387.422419</td>\n",
       "      <td>386.982940</td>\n",
       "      <td>388.374999</td>\n",
       "      <td>101.126039</td>\n",
       "      <td>524.064031</td>\n",
       "      <td>5.527722e+03</td>\n",
       "      <td>105.411046</td>\n",
       "      <td>1.138617e+04</td>\n",
       "      <td>149.045321</td>\n",
       "      <td>1.320702e+05</td>\n",
       "    </tr>\n",
       "    <tr>\n",
       "      <th>std</th>\n",
       "      <td>48718.776905</td>\n",
       "      <td>7.909748e+03</td>\n",
       "      <td>1.207733e+05</td>\n",
       "      <td>1.175202e+05</td>\n",
       "      <td>33.449373</td>\n",
       "      <td>2.244941e+04</td>\n",
       "      <td>7517.708537</td>\n",
       "      <td>47.677580</td>\n",
       "      <td>775.273702</td>\n",
       "      <td>269.563549</td>\n",
       "      <td>...</td>\n",
       "      <td>857.008056</td>\n",
       "      <td>805.779174</td>\n",
       "      <td>854.626274</td>\n",
       "      <td>1.755272</td>\n",
       "      <td>736.219693</td>\n",
       "      <td>3.879632e+04</td>\n",
       "      <td>4.112570</td>\n",
       "      <td>2.760365e+04</td>\n",
       "      <td>87.966753</td>\n",
       "      <td>5.538906e+05</td>\n",
       "    </tr>\n",
       "    <tr>\n",
       "      <th>min</th>\n",
       "      <td>7.000000</td>\n",
       "      <td>0.000000e+00</td>\n",
       "      <td>1.000000e+02</td>\n",
       "      <td>1.000000e+02</td>\n",
       "      <td>0.000000</td>\n",
       "      <td>1.600000e+02</td>\n",
       "      <td>100.000000</td>\n",
       "      <td>100.000000</td>\n",
       "      <td>100.000000</td>\n",
       "      <td>100.000000</td>\n",
       "      <td>...</td>\n",
       "      <td>0.000000</td>\n",
       "      <td>0.000000</td>\n",
       "      <td>0.000000</td>\n",
       "      <td>100.000000</td>\n",
       "      <td>101.000000</td>\n",
       "      <td>-4.677360e+05</td>\n",
       "      <td>100.000000</td>\n",
       "      <td>1.000000e+02</td>\n",
       "      <td>100.000000</td>\n",
       "      <td>1.600000e+02</td>\n",
       "    </tr>\n",
       "    <tr>\n",
       "      <th>25%</th>\n",
       "      <td>42977.000000</td>\n",
       "      <td>0.000000e+00</td>\n",
       "      <td>1.017000e+03</td>\n",
       "      <td>1.760000e+02</td>\n",
       "      <td>100.000000</td>\n",
       "      <td>7.720000e+02</td>\n",
       "      <td>100.000000</td>\n",
       "      <td>100.000000</td>\n",
       "      <td>100.000000</td>\n",
       "      <td>100.000000</td>\n",
       "      <td>...</td>\n",
       "      <td>0.000000</td>\n",
       "      <td>0.000000</td>\n",
       "      <td>0.000000</td>\n",
       "      <td>100.000000</td>\n",
       "      <td>328.000000</td>\n",
       "      <td>1.310000e+02</td>\n",
       "      <td>102.000000</td>\n",
       "      <td>7.300000e+02</td>\n",
       "      <td>106.000000</td>\n",
       "      <td>3.137000e+03</td>\n",
       "    </tr>\n",
       "    <tr>\n",
       "      <th>50%</th>\n",
       "      <td>85508.000000</td>\n",
       "      <td>0.000000e+00</td>\n",
       "      <td>2.169000e+03</td>\n",
       "      <td>7.850000e+02</td>\n",
       "      <td>100.000000</td>\n",
       "      <td>1.804000e+03</td>\n",
       "      <td>309.000000</td>\n",
       "      <td>108.000000</td>\n",
       "      <td>272.000000</td>\n",
       "      <td>154.000000</td>\n",
       "      <td>...</td>\n",
       "      <td>310.000000</td>\n",
       "      <td>298.000000</td>\n",
       "      <td>298.000000</td>\n",
       "      <td>100.000000</td>\n",
       "      <td>340.000000</td>\n",
       "      <td>3.960000e+02</td>\n",
       "      <td>104.000000</td>\n",
       "      <td>3.522000e+03</td>\n",
       "      <td>113.000000</td>\n",
       "      <td>2.410000e+04</td>\n",
       "    </tr>\n",
       "    <tr>\n",
       "      <th>75%</th>\n",
       "      <td>127522.000000</td>\n",
       "      <td>0.000000e+00</td>\n",
       "      <td>6.056000e+03</td>\n",
       "      <td>3.944000e+03</td>\n",
       "      <td>100.000000</td>\n",
       "      <td>4.614000e+03</td>\n",
       "      <td>1440.000000</td>\n",
       "      <td>131.000000</td>\n",
       "      <td>717.000000</td>\n",
       "      <td>317.000000</td>\n",
       "      <td>...</td>\n",
       "      <td>422.000000</td>\n",
       "      <td>422.000000</td>\n",
       "      <td>418.000000</td>\n",
       "      <td>102.000000</td>\n",
       "      <td>460.000000</td>\n",
       "      <td>2.152000e+03</td>\n",
       "      <td>107.000000</td>\n",
       "      <td>1.145800e+04</td>\n",
       "      <td>131.000000</td>\n",
       "      <td>1.046320e+05</td>\n",
       "    </tr>\n",
       "    <tr>\n",
       "      <th>max</th>\n",
       "      <td>168601.000000</td>\n",
       "      <td>1.260100e+06</td>\n",
       "      <td>1.628313e+07</td>\n",
       "      <td>2.036765e+07</td>\n",
       "      <td>1166.000000</td>\n",
       "      <td>2.023282e+06</td>\n",
       "      <td>604713.000000</td>\n",
       "      <td>3333.000000</td>\n",
       "      <td>25324.000000</td>\n",
       "      <td>7828.000000</td>\n",
       "      <td>...</td>\n",
       "      <td>117028.000000</td>\n",
       "      <td>58564.000000</td>\n",
       "      <td>54100.000000</td>\n",
       "      <td>106.000000</td>\n",
       "      <td>51100.000000</td>\n",
       "      <td>4.421829e+06</td>\n",
       "      <td>119.000000</td>\n",
       "      <td>2.362900e+06</td>\n",
       "      <td>531.000000</td>\n",
       "      <td>2.998309e+07</td>\n",
       "    </tr>\n",
       "  </tbody>\n",
       "</table>\n",
       "<p>8 rows × 39 columns</p>\n",
       "</div>"
      ],
      "text/plain": [
       "             CUSTNBR   ADDCONTAMNT    ACCMVMTAVG  ACCAMNTAVG03    ACCACVNUM12  \\\n",
       "count  173589.000000  1.735890e+05  1.404800e+05  1.385090e+05  154577.000000   \n",
       "mean    85136.469154  7.829263e+02  1.176651e+04  1.233938e+04      89.568875   \n",
       "std     48718.776905  7.909748e+03  1.207733e+05  1.175202e+05      33.449373   \n",
       "min         7.000000  0.000000e+00  1.000000e+02  1.000000e+02       0.000000   \n",
       "25%     42977.000000  0.000000e+00  1.017000e+03  1.760000e+02     100.000000   \n",
       "50%     85508.000000  0.000000e+00  2.169000e+03  7.850000e+02     100.000000   \n",
       "75%    127522.000000  0.000000e+00  6.056000e+03  3.944000e+03     100.000000   \n",
       "max    168601.000000  1.260100e+06  1.628313e+07  2.036765e+07    1166.000000   \n",
       "\n",
       "       ACCAMNTAVG12   CARDDINSUM12      DISTNUM12    INTPHNNUM03  \\\n",
       "count  1.322230e+05  123997.000000  173589.000000  173589.000000   \n",
       "mean   6.169715e+03    2232.150375     124.800022     553.256710   \n",
       "std    2.244941e+04    7517.708537      47.677580     775.273702   \n",
       "min    1.600000e+02     100.000000     100.000000     100.000000   \n",
       "25%    7.720000e+02     100.000000     100.000000     100.000000   \n",
       "50%    1.804000e+03     309.000000     108.000000     272.000000   \n",
       "75%    4.614000e+03    1440.000000     131.000000     717.000000   \n",
       "max    2.023282e+06  604713.000000    3333.000000   25324.000000   \n",
       "\n",
       "         INTLOGNUM12  ...  CONTPAIDAMNT09  CONTPAIDAMNT10  CONTPAIDAMNT11  \\\n",
       "count  173589.000000  ...   128955.000000   128955.000000   128955.000000   \n",
       "mean      259.088773  ...      387.422419      386.982940      388.374999   \n",
       "std       269.563549  ...      857.008056      805.779174      854.626274   \n",
       "min       100.000000  ...        0.000000        0.000000        0.000000   \n",
       "25%       100.000000  ...        0.000000        0.000000        0.000000   \n",
       "50%       154.000000  ...      310.000000      298.000000      298.000000   \n",
       "75%       317.000000  ...      422.000000      422.000000      418.000000   \n",
       "max      7828.000000  ...   117028.000000    58564.000000    54100.000000   \n",
       "\n",
       "         CONTDEBTNUM  CONTMONTHAMNT  RTRNDESVAMNT   MAXTIMECONTR  \\\n",
       "count  173589.000000  173589.000000  1.735890e+05  173589.000000   \n",
       "mean      101.126039     524.064031  5.527722e+03     105.411046   \n",
       "std         1.755272     736.219693  3.879632e+04       4.112570   \n",
       "min       100.000000     101.000000 -4.677360e+05     100.000000   \n",
       "25%       100.000000     328.000000  1.310000e+02     102.000000   \n",
       "50%       100.000000     340.000000  3.960000e+02     104.000000   \n",
       "75%       102.000000     460.000000  2.152000e+03     107.000000   \n",
       "max       106.000000   51100.000000  4.421829e+06     119.000000   \n",
       "\n",
       "       CONTCOLLAMNT  LASTAUTOPAYTIME  TIMEDEPAVG12  \n",
       "count  1.735890e+05     66349.000000  3.684100e+04  \n",
       "mean   1.138617e+04       149.045321  1.320702e+05  \n",
       "std    2.760365e+04        87.966753  5.538906e+05  \n",
       "min    1.000000e+02       100.000000  1.600000e+02  \n",
       "25%    7.300000e+02       106.000000  3.137000e+03  \n",
       "50%    3.522000e+03       113.000000  2.410000e+04  \n",
       "75%    1.145800e+04       131.000000  1.046320e+05  \n",
       "max    2.362900e+06       531.000000  2.998309e+07  \n",
       "\n",
       "[8 rows x 39 columns]"
      ]
     },
     "execution_count": 3,
     "metadata": {},
     "output_type": "execute_result"
    }
   ],
   "source": [
    "train_df.describe()"
   ]
  },
  {
   "cell_type": "code",
   "execution_count": 4,
   "metadata": {
    "execution": {
     "iopub.execute_input": "2020-11-13T20:55:57.937172Z",
     "iopub.status.busy": "2020-11-13T20:55:57.935801Z",
     "iopub.status.idle": "2020-11-13T20:55:57.978562Z",
     "shell.execute_reply": "2020-11-13T20:55:57.979125Z"
    },
    "papermill": {
     "duration": 0.088693,
     "end_time": "2020-11-13T20:55:57.979261",
     "exception": false,
     "start_time": "2020-11-13T20:55:57.890568",
     "status": "completed"
    },
    "tags": []
   },
   "outputs": [
    {
     "data": {
      "text/html": [
       "<div>\n",
       "<style scoped>\n",
       "    .dataframe tbody tr th:only-of-type {\n",
       "        vertical-align: middle;\n",
       "    }\n",
       "\n",
       "    .dataframe tbody tr th {\n",
       "        vertical-align: top;\n",
       "    }\n",
       "\n",
       "    .dataframe thead th {\n",
       "        text-align: right;\n",
       "    }\n",
       "</style>\n",
       "<table border=\"1\" class=\"dataframe\">\n",
       "  <thead>\n",
       "    <tr style=\"text-align: right;\">\n",
       "      <th></th>\n",
       "      <th>CUSTNBR</th>\n",
       "      <th>TRAN_DATE</th>\n",
       "      <th>ACCMVMTAVG</th>\n",
       "      <th>ACCAMNTAVG03</th>\n",
       "      <th>ACCACVNUM12</th>\n",
       "      <th>ACCAMNTAVG12</th>\n",
       "      <th>CARDDINSUM12</th>\n",
       "      <th>DISTNUM12</th>\n",
       "      <th>INTPHNNUM03</th>\n",
       "      <th>INTLOGNUM12</th>\n",
       "      <th>...</th>\n",
       "      <th>CONTPAIDAMNT09</th>\n",
       "      <th>CONTPAIDAMNT10</th>\n",
       "      <th>CONTPAIDAMNT11</th>\n",
       "      <th>CONTDEBTNUM</th>\n",
       "      <th>CONTMONTHAMNT</th>\n",
       "      <th>RTRNDESVAMNT</th>\n",
       "      <th>MAXTIMECONTR</th>\n",
       "      <th>CONTCOLLAMNT</th>\n",
       "      <th>LASTAUTOPAYTIME</th>\n",
       "      <th>TIMEDEPAVG12</th>\n",
       "    </tr>\n",
       "  </thead>\n",
       "  <tbody>\n",
       "    <tr>\n",
       "      <th>0</th>\n",
       "      <td>65668.0</td>\n",
       "      <td>31.12.2018</td>\n",
       "      <td>579.0</td>\n",
       "      <td>NaN</td>\n",
       "      <td>102.0</td>\n",
       "      <td>418.0</td>\n",
       "      <td>524.0</td>\n",
       "      <td>104</td>\n",
       "      <td>556</td>\n",
       "      <td>227</td>\n",
       "      <td>...</td>\n",
       "      <td>328.0</td>\n",
       "      <td>298.0</td>\n",
       "      <td>0.0</td>\n",
       "      <td>100</td>\n",
       "      <td>328</td>\n",
       "      <td>124</td>\n",
       "      <td>102</td>\n",
       "      <td>1438</td>\n",
       "      <td>NaN</td>\n",
       "      <td>NaN</td>\n",
       "    </tr>\n",
       "    <tr>\n",
       "      <th>1</th>\n",
       "      <td>27913.0</td>\n",
       "      <td>31.12.2018</td>\n",
       "      <td>518.0</td>\n",
       "      <td>980.0</td>\n",
       "      <td>100.0</td>\n",
       "      <td>1239.0</td>\n",
       "      <td>NaN</td>\n",
       "      <td>100</td>\n",
       "      <td>443</td>\n",
       "      <td>284</td>\n",
       "      <td>...</td>\n",
       "      <td>NaN</td>\n",
       "      <td>NaN</td>\n",
       "      <td>NaN</td>\n",
       "      <td>104</td>\n",
       "      <td>340</td>\n",
       "      <td>143</td>\n",
       "      <td>106</td>\n",
       "      <td>256</td>\n",
       "      <td>NaN</td>\n",
       "      <td>NaN</td>\n",
       "    </tr>\n",
       "    <tr>\n",
       "      <th>2</th>\n",
       "      <td>210.0</td>\n",
       "      <td>31.12.2018</td>\n",
       "      <td>2441.0</td>\n",
       "      <td>4631.0</td>\n",
       "      <td>100.0</td>\n",
       "      <td>1832.0</td>\n",
       "      <td>NaN</td>\n",
       "      <td>101</td>\n",
       "      <td>930</td>\n",
       "      <td>309</td>\n",
       "      <td>...</td>\n",
       "      <td>0.0</td>\n",
       "      <td>0.0</td>\n",
       "      <td>0.0</td>\n",
       "      <td>100</td>\n",
       "      <td>328</td>\n",
       "      <td>47</td>\n",
       "      <td>101</td>\n",
       "      <td>1012</td>\n",
       "      <td>NaN</td>\n",
       "      <td>NaN</td>\n",
       "    </tr>\n",
       "    <tr>\n",
       "      <th>3</th>\n",
       "      <td>20674.0</td>\n",
       "      <td>31.12.2018</td>\n",
       "      <td>848.0</td>\n",
       "      <td>504.0</td>\n",
       "      <td>100.0</td>\n",
       "      <td>693.0</td>\n",
       "      <td>NaN</td>\n",
       "      <td>100</td>\n",
       "      <td>101</td>\n",
       "      <td>100</td>\n",
       "      <td>...</td>\n",
       "      <td>NaN</td>\n",
       "      <td>NaN</td>\n",
       "      <td>NaN</td>\n",
       "      <td>104</td>\n",
       "      <td>340</td>\n",
       "      <td>237</td>\n",
       "      <td>106</td>\n",
       "      <td>1042</td>\n",
       "      <td>NaN</td>\n",
       "      <td>NaN</td>\n",
       "    </tr>\n",
       "    <tr>\n",
       "      <th>4</th>\n",
       "      <td>9822.0</td>\n",
       "      <td>31.12.2018</td>\n",
       "      <td>1709.0</td>\n",
       "      <td>154.0</td>\n",
       "      <td>100.0</td>\n",
       "      <td>760.0</td>\n",
       "      <td>100.0</td>\n",
       "      <td>101</td>\n",
       "      <td>222</td>\n",
       "      <td>125</td>\n",
       "      <td>...</td>\n",
       "      <td>NaN</td>\n",
       "      <td>NaN</td>\n",
       "      <td>NaN</td>\n",
       "      <td>104</td>\n",
       "      <td>268</td>\n",
       "      <td>338</td>\n",
       "      <td>105</td>\n",
       "      <td>1012</td>\n",
       "      <td>NaN</td>\n",
       "      <td>NaN</td>\n",
       "    </tr>\n",
       "    <tr>\n",
       "      <th>...</th>\n",
       "      <td>...</td>\n",
       "      <td>...</td>\n",
       "      <td>...</td>\n",
       "      <td>...</td>\n",
       "      <td>...</td>\n",
       "      <td>...</td>\n",
       "      <td>...</td>\n",
       "      <td>...</td>\n",
       "      <td>...</td>\n",
       "      <td>...</td>\n",
       "      <td>...</td>\n",
       "      <td>...</td>\n",
       "      <td>...</td>\n",
       "      <td>...</td>\n",
       "      <td>...</td>\n",
       "      <td>...</td>\n",
       "      <td>...</td>\n",
       "      <td>...</td>\n",
       "      <td>...</td>\n",
       "      <td>...</td>\n",
       "      <td>...</td>\n",
       "    </tr>\n",
       "    <tr>\n",
       "      <th>16973</th>\n",
       "      <td>32991.0</td>\n",
       "      <td>31.12.2018</td>\n",
       "      <td>NaN</td>\n",
       "      <td>NaN</td>\n",
       "      <td>NaN</td>\n",
       "      <td>NaN</td>\n",
       "      <td>2294.0</td>\n",
       "      <td>112</td>\n",
       "      <td>1204</td>\n",
       "      <td>398</td>\n",
       "      <td>...</td>\n",
       "      <td>340.0</td>\n",
       "      <td>304.0</td>\n",
       "      <td>280.0</td>\n",
       "      <td>100</td>\n",
       "      <td>268</td>\n",
       "      <td>1491</td>\n",
       "      <td>105</td>\n",
       "      <td>8008</td>\n",
       "      <td>NaN</td>\n",
       "      <td>NaN</td>\n",
       "    </tr>\n",
       "    <tr>\n",
       "      <th>16974</th>\n",
       "      <td>46503.0</td>\n",
       "      <td>31.12.2018</td>\n",
       "      <td>2470.0</td>\n",
       "      <td>2736.0</td>\n",
       "      <td>100.0</td>\n",
       "      <td>5102.0</td>\n",
       "      <td>297.0</td>\n",
       "      <td>132</td>\n",
       "      <td>100</td>\n",
       "      <td>101</td>\n",
       "      <td>...</td>\n",
       "      <td>328.0</td>\n",
       "      <td>328.0</td>\n",
       "      <td>328.0</td>\n",
       "      <td>100</td>\n",
       "      <td>460</td>\n",
       "      <td>327</td>\n",
       "      <td>102</td>\n",
       "      <td>5302</td>\n",
       "      <td>105.0</td>\n",
       "      <td>NaN</td>\n",
       "    </tr>\n",
       "    <tr>\n",
       "      <th>16975</th>\n",
       "      <td>46871.0</td>\n",
       "      <td>31.12.2018</td>\n",
       "      <td>NaN</td>\n",
       "      <td>NaN</td>\n",
       "      <td>0.0</td>\n",
       "      <td>NaN</td>\n",
       "      <td>119.0</td>\n",
       "      <td>114</td>\n",
       "      <td>609</td>\n",
       "      <td>215</td>\n",
       "      <td>...</td>\n",
       "      <td>340.0</td>\n",
       "      <td>340.0</td>\n",
       "      <td>310.0</td>\n",
       "      <td>100</td>\n",
       "      <td>376</td>\n",
       "      <td>1209</td>\n",
       "      <td>105</td>\n",
       "      <td>8542</td>\n",
       "      <td>113.0</td>\n",
       "      <td>NaN</td>\n",
       "    </tr>\n",
       "    <tr>\n",
       "      <th>16976</th>\n",
       "      <td>47306.0</td>\n",
       "      <td>31.12.2018</td>\n",
       "      <td>NaN</td>\n",
       "      <td>NaN</td>\n",
       "      <td>0.0</td>\n",
       "      <td>NaN</td>\n",
       "      <td>100.0</td>\n",
       "      <td>100</td>\n",
       "      <td>100</td>\n",
       "      <td>100</td>\n",
       "      <td>...</td>\n",
       "      <td>0.0</td>\n",
       "      <td>520.0</td>\n",
       "      <td>0.0</td>\n",
       "      <td>104</td>\n",
       "      <td>340</td>\n",
       "      <td>1683</td>\n",
       "      <td>107</td>\n",
       "      <td>7942</td>\n",
       "      <td>NaN</td>\n",
       "      <td>NaN</td>\n",
       "    </tr>\n",
       "    <tr>\n",
       "      <th>16977</th>\n",
       "      <td>50951.0</td>\n",
       "      <td>31.12.2018</td>\n",
       "      <td>2564.0</td>\n",
       "      <td>3311.0</td>\n",
       "      <td>106.0</td>\n",
       "      <td>3107.0</td>\n",
       "      <td>2206.0</td>\n",
       "      <td>248</td>\n",
       "      <td>1545</td>\n",
       "      <td>518</td>\n",
       "      <td>...</td>\n",
       "      <td>340.0</td>\n",
       "      <td>0.0</td>\n",
       "      <td>580.0</td>\n",
       "      <td>101</td>\n",
       "      <td>400</td>\n",
       "      <td>875</td>\n",
       "      <td>104</td>\n",
       "      <td>7366</td>\n",
       "      <td>113.0</td>\n",
       "      <td>957.0</td>\n",
       "    </tr>\n",
       "  </tbody>\n",
       "</table>\n",
       "<p>16978 rows × 38 columns</p>\n",
       "</div>"
      ],
      "text/plain": [
       "       CUSTNBR   TRAN_DATE  ACCMVMTAVG  ACCAMNTAVG03  ACCACVNUM12  \\\n",
       "0      65668.0  31.12.2018       579.0           NaN        102.0   \n",
       "1      27913.0  31.12.2018       518.0         980.0        100.0   \n",
       "2        210.0  31.12.2018      2441.0        4631.0        100.0   \n",
       "3      20674.0  31.12.2018       848.0         504.0        100.0   \n",
       "4       9822.0  31.12.2018      1709.0         154.0        100.0   \n",
       "...        ...         ...         ...           ...          ...   \n",
       "16973  32991.0  31.12.2018         NaN           NaN          NaN   \n",
       "16974  46503.0  31.12.2018      2470.0        2736.0        100.0   \n",
       "16975  46871.0  31.12.2018         NaN           NaN          0.0   \n",
       "16976  47306.0  31.12.2018         NaN           NaN          0.0   \n",
       "16977  50951.0  31.12.2018      2564.0        3311.0        106.0   \n",
       "\n",
       "       ACCAMNTAVG12  CARDDINSUM12  DISTNUM12  INTPHNNUM03  INTLOGNUM12  ...  \\\n",
       "0             418.0         524.0        104          556          227  ...   \n",
       "1            1239.0           NaN        100          443          284  ...   \n",
       "2            1832.0           NaN        101          930          309  ...   \n",
       "3             693.0           NaN        100          101          100  ...   \n",
       "4             760.0         100.0        101          222          125  ...   \n",
       "...             ...           ...        ...          ...          ...  ...   \n",
       "16973           NaN        2294.0        112         1204          398  ...   \n",
       "16974        5102.0         297.0        132          100          101  ...   \n",
       "16975           NaN         119.0        114          609          215  ...   \n",
       "16976           NaN         100.0        100          100          100  ...   \n",
       "16977        3107.0        2206.0        248         1545          518  ...   \n",
       "\n",
       "       CONTPAIDAMNT09  CONTPAIDAMNT10  CONTPAIDAMNT11  CONTDEBTNUM  \\\n",
       "0               328.0           298.0             0.0          100   \n",
       "1                 NaN             NaN             NaN          104   \n",
       "2                 0.0             0.0             0.0          100   \n",
       "3                 NaN             NaN             NaN          104   \n",
       "4                 NaN             NaN             NaN          104   \n",
       "...               ...             ...             ...          ...   \n",
       "16973           340.0           304.0           280.0          100   \n",
       "16974           328.0           328.0           328.0          100   \n",
       "16975           340.0           340.0           310.0          100   \n",
       "16976             0.0           520.0             0.0          104   \n",
       "16977           340.0             0.0           580.0          101   \n",
       "\n",
       "       CONTMONTHAMNT  RTRNDESVAMNT  MAXTIMECONTR  CONTCOLLAMNT  \\\n",
       "0                328           124           102          1438   \n",
       "1                340           143           106           256   \n",
       "2                328            47           101          1012   \n",
       "3                340           237           106          1042   \n",
       "4                268           338           105          1012   \n",
       "...              ...           ...           ...           ...   \n",
       "16973            268          1491           105          8008   \n",
       "16974            460           327           102          5302   \n",
       "16975            376          1209           105          8542   \n",
       "16976            340          1683           107          7942   \n",
       "16977            400           875           104          7366   \n",
       "\n",
       "       LASTAUTOPAYTIME  TIMEDEPAVG12  \n",
       "0                  NaN           NaN  \n",
       "1                  NaN           NaN  \n",
       "2                  NaN           NaN  \n",
       "3                  NaN           NaN  \n",
       "4                  NaN           NaN  \n",
       "...                ...           ...  \n",
       "16973              NaN           NaN  \n",
       "16974            105.0           NaN  \n",
       "16975            113.0           NaN  \n",
       "16976              NaN           NaN  \n",
       "16977            113.0         957.0  \n",
       "\n",
       "[16978 rows x 38 columns]"
      ]
     },
     "execution_count": 4,
     "metadata": {},
     "output_type": "execute_result"
    }
   ],
   "source": [
    "test_df"
   ]
  },
  {
   "cell_type": "code",
   "execution_count": 5,
   "metadata": {
    "execution": {
     "iopub.execute_input": "2020-11-13T20:55:58.065647Z",
     "iopub.status.busy": "2020-11-13T20:55:58.064351Z",
     "iopub.status.idle": "2020-11-13T20:55:58.114787Z",
     "shell.execute_reply": "2020-11-13T20:55:58.115450Z"
    },
    "papermill": {
     "duration": 0.096669,
     "end_time": "2020-11-13T20:55:58.115634",
     "exception": false,
     "start_time": "2020-11-13T20:55:58.018965",
     "status": "completed"
    },
    "tags": []
   },
   "outputs": [
    {
     "name": "stdout",
     "output_type": "stream",
     "text": [
      "<class 'pandas.core.frame.DataFrame'>\n",
      "RangeIndex: 173589 entries, 0 to 173588\n",
      "Data columns (total 40 columns):\n",
      " #   Column           Non-Null Count   Dtype  \n",
      "---  ------           --------------   -----  \n",
      " 0   CUSTNBR          173589 non-null  float64\n",
      " 1   TRAN_DATE        173589 non-null  object \n",
      " 2   ADDCONTAMNT      173589 non-null  int64  \n",
      " 3   ACCMVMTAVG       140480 non-null  float64\n",
      " 4   ACCAMNTAVG03     138509 non-null  float64\n",
      " 5   ACCACVNUM12      154577 non-null  float64\n",
      " 6   ACCAMNTAVG12     132223 non-null  float64\n",
      " 7   CARDDINSUM12     123997 non-null  float64\n",
      " 8   DISTNUM12        173589 non-null  int64  \n",
      " 9   INTPHNNUM03      173589 non-null  int64  \n",
      " 10  INTLOGNUM12      173589 non-null  int64  \n",
      " 11  DEMINFO1         173589 non-null  int64  \n",
      " 12  DEMINFO2         173589 non-null  int64  \n",
      " 13  BLNAMNT03        15780 non-null   float64\n",
      " 14  CRRASTALL        172485 non-null  float64\n",
      " 15  ASTAVGDIF0312    168030 non-null  float64\n",
      " 16  EFTAMNTSUM12     86544 non-null   float64\n",
      " 17  MAXMATEVR        165296 non-null  float64\n",
      " 18  DEBTAVG00        84507 non-null   float64\n",
      " 19  LSTPRDCNUM       173104 non-null  float64\n",
      " 20  DESACCUAMNT      173589 non-null  int64  \n",
      " 21  CONTPAIDAMNT00   128955 non-null  float64\n",
      " 22  CONTPAIDAMNT01   128955 non-null  float64\n",
      " 23  CONTPAIDAMNT02   128955 non-null  float64\n",
      " 24  CONTPAIDAMNT03   128955 non-null  float64\n",
      " 25  CONTPAIDAMNT04   128955 non-null  float64\n",
      " 26  CONTPAIDAMNT05   128955 non-null  float64\n",
      " 27  CONTPAIDAMNT06   128955 non-null  float64\n",
      " 28  CONTPAIDAMNT07   128955 non-null  float64\n",
      " 29  CONTPAIDAMNT08   128955 non-null  float64\n",
      " 30  CONTPAIDAMNT09   128955 non-null  float64\n",
      " 31  CONTPAIDAMNT10   128955 non-null  float64\n",
      " 32  CONTPAIDAMNT11   128955 non-null  float64\n",
      " 33  CONTDEBTNUM      173589 non-null  int64  \n",
      " 34  CONTMONTHAMNT    173589 non-null  int64  \n",
      " 35  RTRNDESVAMNT     173589 non-null  int64  \n",
      " 36  MAXTIMECONTR     173589 non-null  int64  \n",
      " 37  CONTCOLLAMNT     173589 non-null  int64  \n",
      " 38  LASTAUTOPAYTIME  66349 non-null   float64\n",
      " 39  TIMEDEPAVG12     36841 non-null   float64\n",
      "dtypes: float64(27), int64(12), object(1)\n",
      "memory usage: 53.0+ MB\n"
     ]
    }
   ],
   "source": [
    "train_df.info()"
   ]
  },
  {
   "cell_type": "markdown",
   "metadata": {
    "papermill": {
     "duration": 0.039273,
     "end_time": "2020-11-13T20:55:58.196470",
     "exception": false,
     "start_time": "2020-11-13T20:55:58.157197",
     "status": "completed"
    },
    "tags": []
   },
   "source": [
    "rename columns for better understanding\n"
   ]
  },
  {
   "cell_type": "code",
   "execution_count": 6,
   "metadata": {
    "execution": {
     "iopub.execute_input": "2020-11-13T20:55:58.289653Z",
     "iopub.status.busy": "2020-11-13T20:55:58.288131Z",
     "iopub.status.idle": "2020-11-13T20:55:58.315328Z",
     "shell.execute_reply": "2020-11-13T20:55:58.314680Z"
    },
    "papermill": {
     "duration": 0.08249,
     "end_time": "2020-11-13T20:55:58.315443",
     "exception": false,
     "start_time": "2020-11-13T20:55:58.232953",
     "status": "completed"
    },
    "tags": []
   },
   "outputs": [],
   "source": [
    "train=train_df.rename(columns={\"CUSTNBR\": \"customer_id\", \"TRAN_DATE\": \"trans_date\", \"ADDCONTAMNT\": \"sum_add_cont_amount\", \"ACCMVMTAVG\": \"avg_demand_depo_mov\", \"ACCAMNTAVG03\": \"avg_balance_last_3\", \n",
    "                           \"ACCACVNUM12\": \"num_active_days\", \"ACCAMNTAVG12\": \"avg_dem_depo_last_12\", \"CARDDINSUM12\": \"avg_cct_dining_last_12\",\n",
    "                           \"DISTNUM12\": \"num_phone_trans_last_12\", \"INTPHNNUM03\": \"num_net_trans_last_3\", \"INTLOGNUM12\": \"num_net_login_las_12\",\n",
    "                           \"DEMINFO1\": \"customer_info_1\", \"DEMINFO2\": \"customer_info_2\", \"BLNAMNT03\": \"avg_opfall_balance_total_last_3\", \n",
    "                           \"CRRASTALL\": \"curr_asset_all_last_30\", \"ASTAVGDIF0312\": \"avg_asset_diff_quar\", \"EFTAMNTSUM12\": \"total_inco_EFT_last_12\",\n",
    "                           \"MAXMATEVR\": \"max_mat\", \"DEBTAVG00\": \"avg_debt_last_1\", \"LSTPRDCNUM\": \"num_days_last_to_open\", \"DESACCUAMNT\": \"total_deserved_acc\",\n",
    "                           \"CONTPAIDAMNT00\": \"tot_0M\", \"CONTPAIDAMNT01\": \"tot_1M\",\"CONTPAIDAMNT02\": \"tot_2M\",\n",
    "                           \"CONTPAIDAMNT03\": \"tot_3M\", \"CONTPAIDAMNT04\": \"tot_4M\", \"CONTPAIDAMNT05\": \"tot_5M\", \"CONTPAIDAMNT06\": \"tot_6M\",\n",
    "                           \"CONTPAIDAMNT07\": \"tot_7M\", \"CONTPAIDAMNT08\": \"tot_8M\", \"CONTPAIDAMNT09\": \"tot_9M\", \"CONTPAIDAMNT10\": \"tot_10M\",\n",
    "                           \"CONTPAIDAMNT11\": \"tot_11M\", \"CONTDEBTNUM\": \"num_cont_debt\", \"CONTMONTHAMNT\": \"avg_cont_per_month\", \"RTRNDESVAMNT\": \"deserved_tot_return\", \n",
    "                           \"MAXTIMECONTR\": \"age_oldest_contract\", \"CONTCOLLAMNT\": \"collected_cont\", \"LASTAUTOPAYTIME\": \"days_last_auto_payment\",\n",
    "                           \"TIMEDEPAVG12\": \"avg_mevduat_hesabi_last_12\"})\n",
    "\n",
    "#######################        ##########################      ##########################\n",
    "\n",
    "test=test_df.rename(columns={\"CUSTNBR\": \"customer_id\", \"TRAN_DATE\": \"trans_date\", \"ADDCONTAMNT\": \"sum_add_cont_amount\", \"ACCMVMTAVG\": \"avg_demand_depo_mov\", \"ACCAMNTAVG03\": \"avg_balance_last_3\", \n",
    "                           \"ACCACVNUM12\": \"num_active_days\", \"ACCAMNTAVG12\": \"avg_dem_depo_last_12\", \"CARDDINSUM12\": \"avg_cct_dining_last_12\",\n",
    "                           \"DISTNUM12\": \"num_phone_trans_last_12\", \"INTPHNNUM03\": \"num_net_trans_last_3\", \"INTLOGNUM12\": \"num_net_login_las_12\",\n",
    "                           \"DEMINFO1\": \"customer_info_1\", \"DEMINFO2\": \"customer_info_2\", \"BLNAMNT03\": \"avg_opfall_balance_total_last_3\", \n",
    "                           \"CRRASTALL\": \"curr_asset_all_last_30\", \"ASTAVGDIF0312\": \"avg_asset_diff_quar\", \"EFTAMNTSUM12\": \"total_inco_EFT_last_12\",\n",
    "                           \"MAXMATEVR\": \"max_mat\", \"DEBTAVG00\": \"avg_debt_last_1\", \"LSTPRDCNUM\": \"num_days_last_to_open\", \"DESACCUAMNT\": \"total_deserved_acc\",\n",
    "                           \"CONTPAIDAMNT00\": \"tot_0M\", \"CONTPAIDAMNT01\": \"tot_1M\",\"CONTPAIDAMNT02\": \"tot_2M\",\n",
    "                           \"CONTPAIDAMNT03\": \"tot_3M\", \"CONTPAIDAMNT04\": \"tot_4M\", \"CONTPAIDAMNT05\": \"tot_5M\", \"CONTPAIDAMNT06\": \"tot_6M\",\n",
    "                           \"CONTPAIDAMNT07\": \"tot_7M\", \"CONTPAIDAMNT08\": \"tot_8M\", \"CONTPAIDAMNT09\": \"tot_9M\", \"CONTPAIDAMNT10\": \"tot_10M\",\n",
    "                           \"CONTPAIDAMNT11\": \"tot_11M\", \"CONTDEBTNUM\": \"num_cont_debt\", \"CONTMONTHAMNT\": \"avg_cont_per_month\", \"RTRNDESVAMNT\": \"deserved_tot_return\", \n",
    "                           \"MAXTIMECONTR\": \"age_oldest_contract\", \"CONTCOLLAMNT\": \"collected_cont\", \"LASTAUTOPAYTIME\": \"days_last_auto_payment\",\n",
    "                           \"TIMEDEPAVG12\": \"avg_mevduat_hesabi_last_12\"})\n"
   ]
  },
  {
   "cell_type": "code",
   "execution_count": 7,
   "metadata": {
    "execution": {
     "iopub.execute_input": "2020-11-13T20:55:58.392690Z",
     "iopub.status.busy": "2020-11-13T20:55:58.391608Z",
     "iopub.status.idle": "2020-11-13T20:55:58.433710Z",
     "shell.execute_reply": "2020-11-13T20:55:58.434253Z"
    },
    "papermill": {
     "duration": 0.083822,
     "end_time": "2020-11-13T20:55:58.434379",
     "exception": false,
     "start_time": "2020-11-13T20:55:58.350557",
     "status": "completed"
    },
    "tags": []
   },
   "outputs": [
    {
     "data": {
      "text/plain": [
       "customer_id                             0\n",
       "trans_date                              0\n",
       "sum_add_cont_amount                     0\n",
       "avg_demand_depo_mov                 33109\n",
       "avg_balance_last_3                  35080\n",
       "num_active_days                     19012\n",
       "avg_dem_depo_last_12                41366\n",
       "avg_cct_dining_last_12              49592\n",
       "num_phone_trans_last_12                 0\n",
       "num_net_trans_last_3                    0\n",
       "num_net_login_las_12                    0\n",
       "customer_info_1                         0\n",
       "customer_info_2                         0\n",
       "avg_opfall_balance_total_last_3    157809\n",
       "curr_asset_all_last_30               1104\n",
       "avg_asset_diff_quar                  5559\n",
       "total_inco_EFT_last_12              87045\n",
       "max_mat                              8293\n",
       "avg_debt_last_1                     89082\n",
       "num_days_last_to_open                 485\n",
       "total_deserved_acc                      0\n",
       "tot_0M                              44634\n",
       "tot_1M                              44634\n",
       "tot_2M                              44634\n",
       "tot_3M                              44634\n",
       "tot_4M                              44634\n",
       "tot_5M                              44634\n",
       "tot_6M                              44634\n",
       "tot_7M                              44634\n",
       "tot_8M                              44634\n",
       "tot_9M                              44634\n",
       "tot_10M                             44634\n",
       "tot_11M                             44634\n",
       "num_cont_debt                           0\n",
       "avg_cont_per_month                      0\n",
       "deserved_tot_return                     0\n",
       "age_oldest_contract                     0\n",
       "collected_cont                          0\n",
       "days_last_auto_payment             107240\n",
       "avg_mevduat_hesabi_last_12         136748\n",
       "dtype: int64"
      ]
     },
     "execution_count": 7,
     "metadata": {},
     "output_type": "execute_result"
    }
   ],
   "source": [
    "train.isnull().sum()"
   ]
  },
  {
   "cell_type": "code",
   "execution_count": 8,
   "metadata": {
    "execution": {
     "iopub.execute_input": "2020-11-13T20:55:58.514095Z",
     "iopub.status.busy": "2020-11-13T20:55:58.513173Z",
     "iopub.status.idle": "2020-11-13T20:55:58.530712Z",
     "shell.execute_reply": "2020-11-13T20:55:58.529968Z"
    },
    "papermill": {
     "duration": 0.059509,
     "end_time": "2020-11-13T20:55:58.530829",
     "exception": false,
     "start_time": "2020-11-13T20:55:58.471320",
     "status": "completed"
    },
    "tags": []
   },
   "outputs": [
    {
     "name": "stdout",
     "output_type": "stream",
     "text": [
      "<class 'pandas.core.frame.DataFrame'>\n",
      "RangeIndex: 16978 entries, 0 to 16977\n",
      "Data columns (total 38 columns):\n",
      " #   Column                           Non-Null Count  Dtype  \n",
      "---  ------                           --------------  -----  \n",
      " 0   customer_id                      16978 non-null  float64\n",
      " 1   trans_date                       16978 non-null  object \n",
      " 2   avg_demand_depo_mov              13760 non-null  float64\n",
      " 3   avg_balance_last_3               13583 non-null  float64\n",
      " 4   num_active_days                  15132 non-null  float64\n",
      " 5   avg_dem_depo_last_12             12929 non-null  float64\n",
      " 6   avg_cct_dining_last_12           12026 non-null  float64\n",
      " 7   num_phone_trans_last_12          16978 non-null  int64  \n",
      " 8   num_net_trans_last_3             16978 non-null  int64  \n",
      " 9   num_net_login_las_12             16978 non-null  int64  \n",
      " 10  customer_info_1                  16978 non-null  int64  \n",
      " 11  customer_info_2                  16978 non-null  int64  \n",
      " 12  avg_opfall_balance_total_last_3  1500 non-null   float64\n",
      " 13  curr_asset_all_last_30           16890 non-null  float64\n",
      " 14  avg_asset_diff_quar              16575 non-null  float64\n",
      " 15  total_inco_EFT_last_12           8135 non-null   float64\n",
      " 16  max_mat                          16199 non-null  float64\n",
      " 17  avg_debt_last_1                  8376 non-null   float64\n",
      " 18  num_days_last_to_open            16943 non-null  float64\n",
      " 19  total_deserved_acc               16978 non-null  int64  \n",
      " 20  tot_0M                           12355 non-null  float64\n",
      " 21  tot_1M                           12355 non-null  float64\n",
      " 22  tot_2M                           12355 non-null  float64\n",
      " 23  tot_3M                           12355 non-null  float64\n",
      " 24  tot_4M                           12355 non-null  float64\n",
      " 25  tot_5M                           12355 non-null  float64\n",
      " 26  tot_6M                           12355 non-null  float64\n",
      " 27  tot_8M                           12355 non-null  float64\n",
      " 28  tot_9M                           12355 non-null  float64\n",
      " 29  tot_10M                          12355 non-null  float64\n",
      " 30  tot_11M                          12355 non-null  float64\n",
      " 31  num_cont_debt                    16978 non-null  int64  \n",
      " 32  avg_cont_per_month               16978 non-null  int64  \n",
      " 33  deserved_tot_return              16978 non-null  int64  \n",
      " 34  age_oldest_contract              16978 non-null  int64  \n",
      " 35  collected_cont                   16978 non-null  int64  \n",
      " 36  days_last_auto_payment           6431 non-null   float64\n",
      " 37  avg_mevduat_hesabi_last_12       3537 non-null   float64\n",
      "dtypes: float64(26), int64(11), object(1)\n",
      "memory usage: 4.9+ MB\n"
     ]
    }
   ],
   "source": [
    "test.info()"
   ]
  },
  {
   "cell_type": "code",
   "execution_count": 9,
   "metadata": {
    "execution": {
     "iopub.execute_input": "2020-11-13T20:55:58.617669Z",
     "iopub.status.busy": "2020-11-13T20:55:58.616738Z",
     "iopub.status.idle": "2020-11-13T20:55:58.627474Z",
     "shell.execute_reply": "2020-11-13T20:55:58.626941Z"
    },
    "papermill": {
     "duration": 0.055439,
     "end_time": "2020-11-13T20:55:58.627598",
     "exception": false,
     "start_time": "2020-11-13T20:55:58.572159",
     "status": "completed"
    },
    "tags": []
   },
   "outputs": [
    {
     "data": {
      "text/plain": [
       "customer_id                            0\n",
       "trans_date                             0\n",
       "avg_demand_depo_mov                 3218\n",
       "avg_balance_last_3                  3395\n",
       "num_active_days                     1846\n",
       "avg_dem_depo_last_12                4049\n",
       "avg_cct_dining_last_12              4952\n",
       "num_phone_trans_last_12                0\n",
       "num_net_trans_last_3                   0\n",
       "num_net_login_las_12                   0\n",
       "customer_info_1                        0\n",
       "customer_info_2                        0\n",
       "avg_opfall_balance_total_last_3    15478\n",
       "curr_asset_all_last_30                88\n",
       "avg_asset_diff_quar                  403\n",
       "total_inco_EFT_last_12              8843\n",
       "max_mat                              779\n",
       "avg_debt_last_1                     8602\n",
       "num_days_last_to_open                 35\n",
       "total_deserved_acc                     0\n",
       "tot_0M                              4623\n",
       "tot_1M                              4623\n",
       "tot_2M                              4623\n",
       "tot_3M                              4623\n",
       "tot_4M                              4623\n",
       "tot_5M                              4623\n",
       "tot_6M                              4623\n",
       "tot_8M                              4623\n",
       "tot_9M                              4623\n",
       "tot_10M                             4623\n",
       "tot_11M                             4623\n",
       "num_cont_debt                          0\n",
       "avg_cont_per_month                     0\n",
       "deserved_tot_return                    0\n",
       "age_oldest_contract                    0\n",
       "collected_cont                         0\n",
       "days_last_auto_payment             10547\n",
       "avg_mevduat_hesabi_last_12         13441\n",
       "dtype: int64"
      ]
     },
     "execution_count": 9,
     "metadata": {},
     "output_type": "execute_result"
    }
   ],
   "source": [
    "test.isnull().sum()"
   ]
  },
  {
   "cell_type": "code",
   "execution_count": 10,
   "metadata": {
    "execution": {
     "iopub.execute_input": "2020-11-13T20:55:58.712259Z",
     "iopub.status.busy": "2020-11-13T20:55:58.711059Z",
     "iopub.status.idle": "2020-11-13T20:55:58.777981Z",
     "shell.execute_reply": "2020-11-13T20:55:58.778750Z"
    },
    "papermill": {
     "duration": 0.112167,
     "end_time": "2020-11-13T20:55:58.778912",
     "exception": false,
     "start_time": "2020-11-13T20:55:58.666745",
     "status": "completed"
    },
    "tags": []
   },
   "outputs": [
    {
     "name": "stdout",
     "output_type": "stream",
     "text": [
      "<class 'pandas.core.frame.DataFrame'>\n",
      "RangeIndex: 173589 entries, 0 to 173588\n",
      "Data columns (total 40 columns):\n",
      " #   Column                           Non-Null Count   Dtype  \n",
      "---  ------                           --------------   -----  \n",
      " 0   customer_id                      173589 non-null  float64\n",
      " 1   trans_date                       173589 non-null  object \n",
      " 2   sum_add_cont_amount              173589 non-null  int64  \n",
      " 3   avg_demand_depo_mov              140480 non-null  float64\n",
      " 4   avg_balance_last_3               138509 non-null  float64\n",
      " 5   num_active_days                  154577 non-null  float64\n",
      " 6   avg_dem_depo_last_12             132223 non-null  float64\n",
      " 7   avg_cct_dining_last_12           123997 non-null  float64\n",
      " 8   num_phone_trans_last_12          173589 non-null  int64  \n",
      " 9   num_net_trans_last_3             173589 non-null  int64  \n",
      " 10  num_net_login_las_12             173589 non-null  int64  \n",
      " 11  customer_info_1                  173589 non-null  int64  \n",
      " 12  customer_info_2                  173589 non-null  int64  \n",
      " 13  avg_opfall_balance_total_last_3  15780 non-null   float64\n",
      " 14  curr_asset_all_last_30           172485 non-null  float64\n",
      " 15  avg_asset_diff_quar              168030 non-null  float64\n",
      " 16  total_inco_EFT_last_12           86544 non-null   float64\n",
      " 17  max_mat                          165296 non-null  float64\n",
      " 18  avg_debt_last_1                  84507 non-null   float64\n",
      " 19  num_days_last_to_open            173104 non-null  float64\n",
      " 20  total_deserved_acc               173589 non-null  int64  \n",
      " 21  tot_0M                           128955 non-null  float64\n",
      " 22  tot_1M                           128955 non-null  float64\n",
      " 23  tot_2M                           128955 non-null  float64\n",
      " 24  tot_3M                           128955 non-null  float64\n",
      " 25  tot_4M                           128955 non-null  float64\n",
      " 26  tot_5M                           128955 non-null  float64\n",
      " 27  tot_6M                           128955 non-null  float64\n",
      " 28  tot_7M                           128955 non-null  float64\n",
      " 29  tot_8M                           128955 non-null  float64\n",
      " 30  tot_9M                           128955 non-null  float64\n",
      " 31  tot_10M                          128955 non-null  float64\n",
      " 32  tot_11M                          128955 non-null  float64\n",
      " 33  num_cont_debt                    173589 non-null  int64  \n",
      " 34  avg_cont_per_month               173589 non-null  int64  \n",
      " 35  deserved_tot_return              173589 non-null  int64  \n",
      " 36  age_oldest_contract              173589 non-null  int64  \n",
      " 37  collected_cont                   173589 non-null  int64  \n",
      " 38  days_last_auto_payment           66349 non-null   float64\n",
      " 39  avg_mevduat_hesabi_last_12       36841 non-null   float64\n",
      "dtypes: float64(27), int64(12), object(1)\n",
      "memory usage: 53.0+ MB\n",
      "<class 'pandas.core.frame.DataFrame'>\n",
      "RangeIndex: 16978 entries, 0 to 16977\n",
      "Data columns (total 38 columns):\n",
      " #   Column                           Non-Null Count  Dtype  \n",
      "---  ------                           --------------  -----  \n",
      " 0   customer_id                      16978 non-null  float64\n",
      " 1   trans_date                       16978 non-null  object \n",
      " 2   avg_demand_depo_mov              13760 non-null  float64\n",
      " 3   avg_balance_last_3               13583 non-null  float64\n",
      " 4   num_active_days                  15132 non-null  float64\n",
      " 5   avg_dem_depo_last_12             12929 non-null  float64\n",
      " 6   avg_cct_dining_last_12           12026 non-null  float64\n",
      " 7   num_phone_trans_last_12          16978 non-null  int64  \n",
      " 8   num_net_trans_last_3             16978 non-null  int64  \n",
      " 9   num_net_login_las_12             16978 non-null  int64  \n",
      " 10  customer_info_1                  16978 non-null  int64  \n",
      " 11  customer_info_2                  16978 non-null  int64  \n",
      " 12  avg_opfall_balance_total_last_3  1500 non-null   float64\n",
      " 13  curr_asset_all_last_30           16890 non-null  float64\n",
      " 14  avg_asset_diff_quar              16575 non-null  float64\n",
      " 15  total_inco_EFT_last_12           8135 non-null   float64\n",
      " 16  max_mat                          16199 non-null  float64\n",
      " 17  avg_debt_last_1                  8376 non-null   float64\n",
      " 18  num_days_last_to_open            16943 non-null  float64\n",
      " 19  total_deserved_acc               16978 non-null  int64  \n",
      " 20  tot_0M                           12355 non-null  float64\n",
      " 21  tot_1M                           12355 non-null  float64\n",
      " 22  tot_2M                           12355 non-null  float64\n",
      " 23  tot_3M                           12355 non-null  float64\n",
      " 24  tot_4M                           12355 non-null  float64\n",
      " 25  tot_5M                           12355 non-null  float64\n",
      " 26  tot_6M                           12355 non-null  float64\n",
      " 27  tot_8M                           12355 non-null  float64\n",
      " 28  tot_9M                           12355 non-null  float64\n",
      " 29  tot_10M                          12355 non-null  float64\n",
      " 30  tot_11M                          12355 non-null  float64\n",
      " 31  num_cont_debt                    16978 non-null  int64  \n",
      " 32  avg_cont_per_month               16978 non-null  int64  \n",
      " 33  deserved_tot_return              16978 non-null  int64  \n",
      " 34  age_oldest_contract              16978 non-null  int64  \n",
      " 35  collected_cont                   16978 non-null  int64  \n",
      " 36  days_last_auto_payment           6431 non-null   float64\n",
      " 37  avg_mevduat_hesabi_last_12       3537 non-null   float64\n",
      "dtypes: float64(26), int64(11), object(1)\n",
      "memory usage: 4.9+ MB\n",
      "None None\n"
     ]
    }
   ],
   "source": [
    "print(train.info(), test.info()) #train: 2: \"sum_add_cont_amount\"(target), 28: tot_7M cols yok"
   ]
  },
  {
   "cell_type": "code",
   "execution_count": 11,
   "metadata": {
    "execution": {
     "iopub.execute_input": "2020-11-13T20:55:58.873186Z",
     "iopub.status.busy": "2020-11-13T20:55:58.872176Z",
     "iopub.status.idle": "2020-11-13T20:55:58.894994Z",
     "shell.execute_reply": "2020-11-13T20:55:58.894103Z"
    },
    "papermill": {
     "duration": 0.071324,
     "end_time": "2020-11-13T20:55:58.895148",
     "exception": false,
     "start_time": "2020-11-13T20:55:58.823824",
     "status": "completed"
    },
    "tags": []
   },
   "outputs": [
    {
     "name": "stdout",
     "output_type": "stream",
     "text": [
      "49489.0     9\n",
      "158246.0    9\n",
      "39187.0     9\n",
      "87843.0     9\n",
      "145663.0    9\n",
      "           ..\n",
      "9600.0      1\n",
      "32875.0     1\n",
      "167682.0    1\n",
      "10745.0     1\n",
      "24576.0     1\n",
      "Name: customer_id, Length: 155404, dtype: int64\n",
      "18185\n"
     ]
    }
   ],
   "source": [
    "customer_id_nunique=train[\"customer_id\"].value_counts()\n",
    "print(customer_id_nunique)\n",
    "print(len(train) - len(customer_id_nunique))\n"
   ]
  },
  {
   "cell_type": "code",
   "execution_count": 12,
   "metadata": {
    "execution": {
     "iopub.execute_input": "2020-11-13T20:55:58.987483Z",
     "iopub.status.busy": "2020-11-13T20:55:58.986460Z",
     "iopub.status.idle": "2020-11-13T20:55:58.998574Z",
     "shell.execute_reply": "2020-11-13T20:55:58.997994Z"
    },
    "papermill": {
     "duration": 0.060387,
     "end_time": "2020-11-13T20:55:58.998682",
     "exception": false,
     "start_time": "2020-11-13T20:55:58.938295",
     "status": "completed"
    },
    "tags": []
   },
   "outputs": [
    {
     "name": "stdout",
     "output_type": "stream",
     "text": [
      "47     6281\n",
      "48     6151\n",
      "49     6111\n",
      "50     5909\n",
      "46     5824\n",
      "       ... \n",
      "100       3\n",
      "106       3\n",
      "27        2\n",
      "103       1\n",
      "107       1\n",
      "Name: customer_info_1, Length: 78, dtype: int64\n",
      "****** ****** ******\n",
      "2    124342\n",
      "1     18893\n",
      "3     17740\n",
      "4     11506\n",
      "6       586\n",
      "5       509\n",
      "7        13\n",
      "Name: customer_info_2, dtype: int64\n"
     ]
    }
   ],
   "source": [
    "customer_info_1_nunique=train[\"customer_info_1\"].value_counts()\n",
    "customer_info_2_nunique=train[\"customer_info_2\"].value_counts()\n",
    "\n",
    "print(customer_info_1_nunique)\n",
    "print(\"****** ****** ******\")\n",
    "print(customer_info_2_nunique)"
   ]
  },
  {
   "cell_type": "code",
   "execution_count": 13,
   "metadata": {
    "execution": {
     "iopub.execute_input": "2020-11-13T20:55:59.084561Z",
     "iopub.status.busy": "2020-11-13T20:55:59.083769Z",
     "iopub.status.idle": "2020-11-13T20:55:59.127135Z",
     "shell.execute_reply": "2020-11-13T20:55:59.126471Z"
    },
    "papermill": {
     "duration": 0.088257,
     "end_time": "2020-11-13T20:55:59.127260",
     "exception": false,
     "start_time": "2020-11-13T20:55:59.039003",
     "status": "completed"
    },
    "tags": []
   },
   "outputs": [],
   "source": [
    "#ek katkı tutarının 0 old. rowlar\n",
    "zero_sum_add_cont_amount=train.loc[train[\"sum_add_cont_amount\"]==0, :]"
   ]
  },
  {
   "cell_type": "code",
   "execution_count": 14,
   "metadata": {
    "execution": {
     "iopub.execute_input": "2020-11-13T20:55:59.227301Z",
     "iopub.status.busy": "2020-11-13T20:55:59.226281Z",
     "iopub.status.idle": "2020-11-13T20:55:59.240471Z",
     "shell.execute_reply": "2020-11-13T20:55:59.239774Z"
    },
    "papermill": {
     "duration": 0.073181,
     "end_time": "2020-11-13T20:55:59.240650",
     "exception": false,
     "start_time": "2020-11-13T20:55:59.167469",
     "status": "completed"
    },
    "tags": []
   },
   "outputs": [],
   "source": [
    "#drop missing column from train set\n",
    "train=train.drop(columns=[\"tot_7M\"])"
   ]
  },
  {
   "cell_type": "code",
   "execution_count": 15,
   "metadata": {
    "execution": {
     "iopub.execute_input": "2020-11-13T20:55:59.382826Z",
     "iopub.status.busy": "2020-11-13T20:55:59.381299Z",
     "iopub.status.idle": "2020-11-13T20:55:59.417835Z",
     "shell.execute_reply": "2020-11-13T20:55:59.418984Z"
    },
    "papermill": {
     "duration": 0.138059,
     "end_time": "2020-11-13T20:55:59.419179",
     "exception": false,
     "start_time": "2020-11-13T20:55:59.281120",
     "status": "completed"
    },
    "tags": []
   },
   "outputs": [
    {
     "data": {
      "text/plain": [
       "2018-11-30    33790\n",
       "2018-10-31    20230\n",
       "2018-03-31    19180\n",
       "2018-04-30    18469\n",
       "2018-05-31    17520\n",
       "2018-06-30    16380\n",
       "2018-09-30    16330\n",
       "2018-08-31    15890\n",
       "2018-07-31    15800\n",
       "Name: trans_date, dtype: int64"
      ]
     },
     "execution_count": 15,
     "metadata": {},
     "output_type": "execute_result"
    }
   ],
   "source": [
    "train[\"trans_date\"].value_counts()"
   ]
  },
  {
   "cell_type": "code",
   "execution_count": 16,
   "metadata": {
    "execution": {
     "iopub.execute_input": "2020-11-13T20:55:59.558575Z",
     "iopub.status.busy": "2020-11-13T20:55:59.557640Z",
     "iopub.status.idle": "2020-11-13T20:55:59.568072Z",
     "shell.execute_reply": "2020-11-13T20:55:59.569173Z"
    },
    "papermill": {
     "duration": 0.079143,
     "end_time": "2020-11-13T20:55:59.569339",
     "exception": false,
     "start_time": "2020-11-13T20:55:59.490196",
     "status": "completed"
    },
    "tags": []
   },
   "outputs": [
    {
     "data": {
      "text/plain": [
       "31.12.2018    16978\n",
       "Name: trans_date, dtype: int64"
      ]
     },
     "execution_count": 16,
     "metadata": {},
     "output_type": "execute_result"
    }
   ],
   "source": [
    "test[\"trans_date\"].value_counts()"
   ]
  },
  {
   "cell_type": "code",
   "execution_count": 17,
   "metadata": {
    "execution": {
     "iopub.execute_input": "2020-11-13T20:55:59.709960Z",
     "iopub.status.busy": "2020-11-13T20:55:59.708925Z",
     "iopub.status.idle": "2020-11-13T20:55:59.777477Z",
     "shell.execute_reply": "2020-11-13T20:55:59.778248Z"
    },
    "papermill": {
     "duration": 0.152084,
     "end_time": "2020-11-13T20:55:59.778455",
     "exception": false,
     "start_time": "2020-11-13T20:55:59.626371",
     "status": "completed"
    },
    "tags": []
   },
   "outputs": [],
   "source": [
    "#merge train&test sets to encode \"trans_date\" column\n",
    "train_dropped=train.drop(columns=[\"sum_add_cont_amount\"])\n",
    "test_dropped=test.copy()\n",
    "merged_df=pd.concat([train_dropped,test_dropped])"
   ]
  },
  {
   "cell_type": "code",
   "execution_count": 18,
   "metadata": {
    "execution": {
     "iopub.execute_input": "2020-11-13T20:55:59.923475Z",
     "iopub.status.busy": "2020-11-13T20:55:59.922586Z",
     "iopub.status.idle": "2020-11-13T20:56:00.045128Z",
     "shell.execute_reply": "2020-11-13T20:56:00.046741Z"
    },
    "papermill": {
     "duration": 0.209522,
     "end_time": "2020-11-13T20:56:00.046953",
     "exception": false,
     "start_time": "2020-11-13T20:55:59.837431",
     "status": "completed"
    },
    "tags": []
   },
   "outputs": [],
   "source": [
    "#Label encode for \"trans_date\"\n",
    "\n",
    "from sklearn import preprocessing\n",
    "le = preprocessing.LabelEncoder()\n",
    "le.fit(merged_df[\"trans_date\"])\n",
    "merged_df[\"trans_date\"]=le.transform(merged_df[\"trans_date\"])"
   ]
  },
  {
   "cell_type": "code",
   "execution_count": 19,
   "metadata": {
    "execution": {
     "iopub.execute_input": "2020-11-13T20:56:00.433951Z",
     "iopub.status.busy": "2020-11-13T20:56:00.432316Z",
     "iopub.status.idle": "2020-11-13T20:56:00.519930Z",
     "shell.execute_reply": "2020-11-13T20:56:00.518864Z"
    },
    "papermill": {
     "duration": 0.231314,
     "end_time": "2020-11-13T20:56:00.520101",
     "exception": false,
     "start_time": "2020-11-13T20:56:00.288787",
     "status": "completed"
    },
    "tags": []
   },
   "outputs": [
    {
     "name": "stdout",
     "output_type": "stream",
     "text": [
      "<class 'pandas.core.frame.DataFrame'>\n",
      "Int64Index: 190567 entries, 0 to 16977\n",
      "Data columns (total 38 columns):\n",
      " #   Column                           Non-Null Count   Dtype  \n",
      "---  ------                           --------------   -----  \n",
      " 0   customer_id                      190567 non-null  float64\n",
      " 1   trans_date                       190567 non-null  int64  \n",
      " 2   avg_demand_depo_mov              154240 non-null  float64\n",
      " 3   avg_balance_last_3               152092 non-null  float64\n",
      " 4   num_active_days                  169709 non-null  float64\n",
      " 5   avg_dem_depo_last_12             145152 non-null  float64\n",
      " 6   avg_cct_dining_last_12           136023 non-null  float64\n",
      " 7   num_phone_trans_last_12          190567 non-null  int64  \n",
      " 8   num_net_trans_last_3             190567 non-null  int64  \n",
      " 9   num_net_login_las_12             190567 non-null  int64  \n",
      " 10  customer_info_1                  190567 non-null  int64  \n",
      " 11  customer_info_2                  190567 non-null  int64  \n",
      " 12  avg_opfall_balance_total_last_3  17280 non-null   float64\n",
      " 13  curr_asset_all_last_30           189375 non-null  float64\n",
      " 14  avg_asset_diff_quar              184605 non-null  float64\n",
      " 15  total_inco_EFT_last_12           94679 non-null   float64\n",
      " 16  max_mat                          181495 non-null  float64\n",
      " 17  avg_debt_last_1                  92883 non-null   float64\n",
      " 18  num_days_last_to_open            190047 non-null  float64\n",
      " 19  total_deserved_acc               190567 non-null  int64  \n",
      " 20  tot_0M                           141310 non-null  float64\n",
      " 21  tot_1M                           141310 non-null  float64\n",
      " 22  tot_2M                           141310 non-null  float64\n",
      " 23  tot_3M                           141310 non-null  float64\n",
      " 24  tot_4M                           141310 non-null  float64\n",
      " 25  tot_5M                           141310 non-null  float64\n",
      " 26  tot_6M                           141310 non-null  float64\n",
      " 27  tot_8M                           141310 non-null  float64\n",
      " 28  tot_9M                           141310 non-null  float64\n",
      " 29  tot_10M                          141310 non-null  float64\n",
      " 30  tot_11M                          141310 non-null  float64\n",
      " 31  num_cont_debt                    190567 non-null  int64  \n",
      " 32  avg_cont_per_month               190567 non-null  int64  \n",
      " 33  deserved_tot_return              190567 non-null  int64  \n",
      " 34  age_oldest_contract              190567 non-null  int64  \n",
      " 35  collected_cont                   190567 non-null  int64  \n",
      " 36  days_last_auto_payment           72780 non-null   float64\n",
      " 37  avg_mevduat_hesabi_last_12       40378 non-null   float64\n",
      "dtypes: float64(26), int64(12)\n",
      "memory usage: 56.7 MB\n"
     ]
    }
   ],
   "source": [
    "merged_df.info()"
   ]
  },
  {
   "cell_type": "code",
   "execution_count": 20,
   "metadata": {
    "execution": {
     "iopub.execute_input": "2020-11-13T20:56:00.891157Z",
     "iopub.status.busy": "2020-11-13T20:56:00.890150Z",
     "iopub.status.idle": "2020-11-13T20:56:00.924767Z",
     "shell.execute_reply": "2020-11-13T20:56:00.926209Z"
    },
    "papermill": {
     "duration": 0.149049,
     "end_time": "2020-11-13T20:56:00.926448",
     "exception": false,
     "start_time": "2020-11-13T20:56:00.777399",
     "status": "completed"
    },
    "tags": []
   },
   "outputs": [
    {
     "data": {
      "text/plain": [
       "customer_id                               1.0\n",
       "trans_date                                0.0\n",
       "avg_demand_depo_mov                     100.0\n",
       "avg_balance_last_3                      100.0\n",
       "num_active_days                           0.0\n",
       "avg_dem_depo_last_12                    160.0\n",
       "avg_cct_dining_last_12                  100.0\n",
       "num_phone_trans_last_12                 100.0\n",
       "num_net_trans_last_3                    100.0\n",
       "num_net_login_las_12                    100.0\n",
       "customer_info_1                          27.0\n",
       "customer_info_2                           1.0\n",
       "avg_opfall_balance_total_last_3         100.0\n",
       "curr_asset_all_last_30                  100.0\n",
       "avg_asset_diff_quar               -77869836.0\n",
       "total_inco_EFT_last_12                  100.0\n",
       "max_mat                                 100.0\n",
       "avg_debt_last_1                         100.0\n",
       "num_days_last_to_open                   100.0\n",
       "total_deserved_acc                      100.0\n",
       "tot_0M                                    0.0\n",
       "tot_1M                                    0.0\n",
       "tot_2M                                    0.0\n",
       "tot_3M                                    0.0\n",
       "tot_4M                                    0.0\n",
       "tot_5M                                    0.0\n",
       "tot_6M                                    0.0\n",
       "tot_8M                                    0.0\n",
       "tot_9M                                    0.0\n",
       "tot_10M                                   0.0\n",
       "tot_11M                                   0.0\n",
       "num_cont_debt                           100.0\n",
       "avg_cont_per_month                      101.0\n",
       "deserved_tot_return                 -467736.0\n",
       "age_oldest_contract                     100.0\n",
       "collected_cont                          100.0\n",
       "days_last_auto_payment                  100.0\n",
       "avg_mevduat_hesabi_last_12              160.0\n",
       "dtype: float64"
      ]
     },
     "execution_count": 20,
     "metadata": {},
     "output_type": "execute_result"
    }
   ],
   "source": [
    "merged_df.min()"
   ]
  },
  {
   "cell_type": "markdown",
   "metadata": {
    "papermill": {
     "duration": 0.04512,
     "end_time": "2020-11-13T20:56:01.039074",
     "exception": false,
     "start_time": "2020-11-13T20:56:00.993954",
     "status": "completed"
    },
    "tags": []
   },
   "source": [
    "## handle missing values"
   ]
  },
  {
   "cell_type": "code",
   "execution_count": 21,
   "metadata": {
    "execution": {
     "iopub.execute_input": "2020-11-13T20:56:01.138133Z",
     "iopub.status.busy": "2020-11-13T20:56:01.137194Z",
     "iopub.status.idle": "2020-11-13T20:56:01.141319Z",
     "shell.execute_reply": "2020-11-13T20:56:01.141838Z"
    },
    "papermill": {
     "duration": 0.060044,
     "end_time": "2020-11-13T20:56:01.141964",
     "exception": false,
     "start_time": "2020-11-13T20:56:01.081920",
     "status": "completed"
    },
    "tags": []
   },
   "outputs": [
    {
     "data": {
      "text/plain": [
       "'\\n\\nfrom sklearn.ensemble import RandomForestRegressor\\n# To use the experimental IterativeImputer, we need to explicitly ask for it:\\nfrom sklearn.experimental import enable_iterative_imputer  # noqa\\nfrom sklearn.impute import SimpleImputer, KNNImputer, IterativeImputer\\nfrom sklearn.model_selection import cross_val_score\\nfrom sklearn.pipeline import make_pipeline\\nfrom sklearn.metrics import mean_squared_error\\nfrom sklearn.model_selection import KFold\\n\\nN_SPLITS = 5\\nregressor = RandomForestRegressor(random_state=0, n_estimators=10)\\n\\n\\n############################################################\\ndef get_scores_for_imputer(imputer, X_missing, y_missing):\\n    #estimator = make_pipeline(imputer, regressor)\\n    #impute_scores = cross_val_score(estimator, X_missing, y_missing,scoring=\\'neg_mean_squared_error\\',cv=N_SPLITS)\\n    \\n    #####\\n    X_missing=np.array(X_missing)\\n    y_missing=np.array(y_missing)\\n\\n    list_fold_score=[]\\n    skf=KFold(n_splits=N_SPLITS, random_state=100, shuffle=True)\\n    for train_index, test_index in skf.split(X_missing, y_missing):\\n        X_train, X_test = X_missing[train_index], X_missing[test_index]\\n        y_train, y_test = y_missing[train_index], y_missing[test_index]\\n        imputer.fit(X_train)\\n        trans_X_train=imputer.transform(X_train)\\n        trans_X_test=imputer.transform(X_test)\\n        \\n        regressor.fit(trans_X_train, y_train)\\n        y_pred=regressor.predict(trans_X_test)\\n        \\n        fold_score=mean_squared_error(y_test, y_pred)\\n        list_fold_score.append(fold_score)\\n    \\n    return np.array(list_fold_score)\\n    #####\\n    \\n\\nx_labels = [\\'Full data\\',\\n            \\'Zero imputation\\',\\n            \\'Mean Imputation\\',\\n            \\'KNN Imputation\\',\\n            \\'Iterative Imputation\\']\\n\\n\\nscores = np.zeros(5)\\nstds = np.zeros(5)\\n\\n########################################################\\n\\n#estimate the score on the original data\\ndef get_full_score(X_full, y_full):\\n    full_scores = cross_val_score(regressor, X_full, y_full,\\n                                  scoring=\\'neg_root_mean_squared_error\\',\\n                                  cv=N_SPLITS)\\n    return full_scores.mean(), full_scores.std()\\n\\n\\n\\nscores[0], stds[0] = get_full_score(train_x, train_y)\\n\\n\\n########################################################\\n\\n#estimate the score on the data where the missing values are replaced by 0\\ndef get_impute_zero_score(X_missing, y_missing):\\n\\n    imputer = SimpleImputer(missing_values=np.nan, add_indicator=True,\\n                            strategy=\\'constant\\', fill_value=0)\\n    zero_impute_scores = get_scores_for_imputer(imputer, X_missing, y_missing)\\n    return zero_impute_scores.mean(), zero_impute_scores.std()\\n\\n\\nscores[1], stds[1] = get_impute_zero_score(train_x, train_y)\\n\\n#####################################################\\n\\n#sklearn.impute.KNNImputer imputes missing values using the weighted or unweighted mean of the \\n#desired number of nearest neighbors.\\ndef get_impute_knn_score(X_missing, y_missing):\\n    imputer = KNNImputer(missing_values=np.nan, add_indicator=True)\\n    knn_impute_scores = get_scores_for_imputer(imputer, X_missing, y_missing)\\n    return knn_impute_scores.mean(), knn_impute_scores.std()\\n\\n\\nscores[2], stds[2] = get_impute_knn_score(train_x, train_y)\\n\\n##########################################################\\n\\n#Impute missing values with mean\\ndef get_impute_mean(X_missing, y_missing):\\n    imputer = SimpleImputer(missing_values=np.nan, strategy=\"mean\",\\n                            add_indicator=True)\\n    mean_impute_scores = get_scores_for_imputer(imputer, X_missing, y_missing)\\n    return mean_impute_scores.mean(), mean_impute_scores.std()\\n\\n\\n#scores[3], stds[3] = get_impute_mean(train_x, train_y)\\n\\n############################################################\\n\\n#This uses round-robin linear regression, modeling each feature with missing values \\n#as a function of other features, in turn.\\ndef get_impute_iterative(X_missing, y_missing):\\n    imputer = IterativeImputer(missing_values=np.nan, add_indicator=True,\\n                               random_state=0, n_nearest_features=5,\\n                               sample_posterior=True)\\n    iterative_impute_scores = get_scores_for_imputer(imputer,\\n                                                     X_missing,\\n                                                     y_missing)\\n    return iterative_impute_scores.mean(), iterative_impute_scores.std()\\n\\n\\n#scores[4], stds[4] = get_impute_iterative(train_x, train_y)\\n\\n##############################################################\\n\\nimport matplotlib.pyplot as plt\\n\\nn_bars = len(scores)\\nxval = np.arange(n_bars)\\n\\ncolors = [\\'r\\', \\'g\\', \\'b\\', \\'orange\\', \\'black\\']\\n\\n# plot california dataset results\\nax2 = plt.subplot(122)\\nfor j in xval:\\n    ax2.barh(j, scores[j], xerr=stds[j],\\n             color=colors[j], alpha=0.6, align=\\'center\\')\\n\\nax2.set_title(\\'Imputation Techniques with IPP Data\\')\\nax2.set_yticks(xval)\\nax2.set_xlabel(\\'neg RMSE\\')\\nax2.invert_yaxis()\\nax2.set_yticklabels([\\'\\'] * n_bars)\\n\\nplt.show()\\n\\n###########################################################\\n\\n'"
      ]
     },
     "execution_count": 21,
     "metadata": {},
     "output_type": "execute_result"
    }
   ],
   "source": [
    "#####> https://scikit-learn.org/stable/auto_examples/impute/plot_missing_values.html#sphx-glr-auto-examples-impute-plot-missing-values-py\n",
    "\n",
    "\"\"\"\n",
    "\n",
    "from sklearn.ensemble import RandomForestRegressor\n",
    "# To use the experimental IterativeImputer, we need to explicitly ask for it:\n",
    "from sklearn.experimental import enable_iterative_imputer  # noqa\n",
    "from sklearn.impute import SimpleImputer, KNNImputer, IterativeImputer\n",
    "from sklearn.model_selection import cross_val_score\n",
    "from sklearn.pipeline import make_pipeline\n",
    "from sklearn.metrics import mean_squared_error\n",
    "from sklearn.model_selection import KFold\n",
    "\n",
    "N_SPLITS = 5\n",
    "regressor = RandomForestRegressor(random_state=0, n_estimators=10)\n",
    "\n",
    "\n",
    "############################################################\n",
    "def get_scores_for_imputer(imputer, X_missing, y_missing):\n",
    "    #estimator = make_pipeline(imputer, regressor)\n",
    "    #impute_scores = cross_val_score(estimator, X_missing, y_missing,scoring='neg_mean_squared_error',cv=N_SPLITS)\n",
    "    \n",
    "    #####\n",
    "    X_missing=np.array(X_missing)\n",
    "    y_missing=np.array(y_missing)\n",
    "\n",
    "    list_fold_score=[]\n",
    "    skf=KFold(n_splits=N_SPLITS, random_state=100, shuffle=True)\n",
    "    for train_index, test_index in skf.split(X_missing, y_missing):\n",
    "        X_train, X_test = X_missing[train_index], X_missing[test_index]\n",
    "        y_train, y_test = y_missing[train_index], y_missing[test_index]\n",
    "        imputer.fit(X_train)\n",
    "        trans_X_train=imputer.transform(X_train)\n",
    "        trans_X_test=imputer.transform(X_test)\n",
    "        \n",
    "        regressor.fit(trans_X_train, y_train)\n",
    "        y_pred=regressor.predict(trans_X_test)\n",
    "        \n",
    "        fold_score=mean_squared_error(y_test, y_pred)\n",
    "        list_fold_score.append(fold_score)\n",
    "    \n",
    "    return np.array(list_fold_score)\n",
    "    #####\n",
    "    \n",
    "\n",
    "x_labels = ['Full data',\n",
    "            'Zero imputation',\n",
    "            'Mean Imputation',\n",
    "            'KNN Imputation',\n",
    "            'Iterative Imputation']\n",
    "\n",
    "\n",
    "scores = np.zeros(5)\n",
    "stds = np.zeros(5)\n",
    "\n",
    "########################################################\n",
    "\n",
    "#estimate the score on the original data\n",
    "def get_full_score(X_full, y_full):\n",
    "    full_scores = cross_val_score(regressor, X_full, y_full,\n",
    "                                  scoring='neg_root_mean_squared_error',\n",
    "                                  cv=N_SPLITS)\n",
    "    return full_scores.mean(), full_scores.std()\n",
    "\n",
    "\n",
    "\n",
    "scores[0], stds[0] = get_full_score(train_x, train_y)\n",
    "\n",
    "\n",
    "########################################################\n",
    "\n",
    "#estimate the score on the data where the missing values are replaced by 0\n",
    "def get_impute_zero_score(X_missing, y_missing):\n",
    "\n",
    "    imputer = SimpleImputer(missing_values=np.nan, add_indicator=True,\n",
    "                            strategy='constant', fill_value=0)\n",
    "    zero_impute_scores = get_scores_for_imputer(imputer, X_missing, y_missing)\n",
    "    return zero_impute_scores.mean(), zero_impute_scores.std()\n",
    "\n",
    "\n",
    "scores[1], stds[1] = get_impute_zero_score(train_x, train_y)\n",
    "\n",
    "#####################################################\n",
    "\n",
    "#sklearn.impute.KNNImputer imputes missing values using the weighted or unweighted mean of the \n",
    "#desired number of nearest neighbors.\n",
    "def get_impute_knn_score(X_missing, y_missing):\n",
    "    imputer = KNNImputer(missing_values=np.nan, add_indicator=True)\n",
    "    knn_impute_scores = get_scores_for_imputer(imputer, X_missing, y_missing)\n",
    "    return knn_impute_scores.mean(), knn_impute_scores.std()\n",
    "\n",
    "\n",
    "scores[2], stds[2] = get_impute_knn_score(train_x, train_y)\n",
    "\n",
    "##########################################################\n",
    "\n",
    "#Impute missing values with mean\n",
    "def get_impute_mean(X_missing, y_missing):\n",
    "    imputer = SimpleImputer(missing_values=np.nan, strategy=\"mean\",\n",
    "                            add_indicator=True)\n",
    "    mean_impute_scores = get_scores_for_imputer(imputer, X_missing, y_missing)\n",
    "    return mean_impute_scores.mean(), mean_impute_scores.std()\n",
    "\n",
    "\n",
    "#scores[3], stds[3] = get_impute_mean(train_x, train_y)\n",
    "\n",
    "############################################################\n",
    "\n",
    "#This uses round-robin linear regression, modeling each feature with missing values \n",
    "#as a function of other features, in turn.\n",
    "def get_impute_iterative(X_missing, y_missing):\n",
    "    imputer = IterativeImputer(missing_values=np.nan, add_indicator=True,\n",
    "                               random_state=0, n_nearest_features=5,\n",
    "                               sample_posterior=True)\n",
    "    iterative_impute_scores = get_scores_for_imputer(imputer,\n",
    "                                                     X_missing,\n",
    "                                                     y_missing)\n",
    "    return iterative_impute_scores.mean(), iterative_impute_scores.std()\n",
    "\n",
    "\n",
    "#scores[4], stds[4] = get_impute_iterative(train_x, train_y)\n",
    "\n",
    "##############################################################\n",
    "\n",
    "import matplotlib.pyplot as plt\n",
    "\n",
    "n_bars = len(scores)\n",
    "xval = np.arange(n_bars)\n",
    "\n",
    "colors = ['r', 'g', 'b', 'orange', 'black']\n",
    "\n",
    "# plot california dataset results\n",
    "ax2 = plt.subplot(122)\n",
    "for j in xval:\n",
    "    ax2.barh(j, scores[j], xerr=stds[j],\n",
    "             color=colors[j], alpha=0.6, align='center')\n",
    "\n",
    "ax2.set_title('Imputation Techniques with IPP Data')\n",
    "ax2.set_yticks(xval)\n",
    "ax2.set_xlabel('neg RMSE')\n",
    "ax2.invert_yaxis()\n",
    "ax2.set_yticklabels([''] * n_bars)\n",
    "\n",
    "plt.show()\n",
    "\n",
    "###########################################################\n",
    "\n",
    "\"\"\""
   ]
  },
  {
   "cell_type": "code",
   "execution_count": 22,
   "metadata": {
    "execution": {
     "iopub.execute_input": "2020-11-13T20:56:01.236309Z",
     "iopub.status.busy": "2020-11-13T20:56:01.235508Z",
     "iopub.status.idle": "2020-11-13T20:57:52.666495Z",
     "shell.execute_reply": "2020-11-13T20:57:52.665896Z"
    },
    "papermill": {
     "duration": 111.482496,
     "end_time": "2020-11-13T20:57:52.666681",
     "exception": false,
     "start_time": "2020-11-13T20:56:01.184185",
     "status": "completed"
    },
    "tags": []
   },
   "outputs": [],
   "source": [
    "from sklearn.experimental import enable_iterative_imputer\n",
    "from sklearn.impute import IterativeImputer\n",
    "\n",
    "imp_mean = IterativeImputer(random_state=0, min_value=merged_df.min())\n",
    "imp_mean.fit(merged_df)\n",
    "new_merged=imp_mean.transform(merged_df)"
   ]
  },
  {
   "cell_type": "code",
   "execution_count": 23,
   "metadata": {
    "execution": {
     "iopub.execute_input": "2020-11-13T20:57:52.770887Z",
     "iopub.status.busy": "2020-11-13T20:57:52.769928Z",
     "iopub.status.idle": "2020-11-13T20:57:52.773665Z",
     "shell.execute_reply": "2020-11-13T20:57:52.774161Z"
    },
    "papermill": {
     "duration": 0.064506,
     "end_time": "2020-11-13T20:57:52.774292",
     "exception": false,
     "start_time": "2020-11-13T20:57:52.709786",
     "status": "completed"
    },
    "tags": []
   },
   "outputs": [
    {
     "data": {
      "text/plain": [
       "array([[2.27760000e+04, 0.00000000e+00, 6.41000000e+02, ...,\n",
       "        2.92600000e+03, 2.35084200e+02, 4.43096608e+02],\n",
       "       [2.22340000e+04, 7.00000000e+00, 5.04770000e+04, ...,\n",
       "        2.70400000e+03, 1.72650850e+02, 1.76364927e+04],\n",
       "       [1.99740000e+04, 8.00000000e+00, 1.46100000e+03, ...,\n",
       "        2.62000000e+03, 2.00986367e+02, 1.33186588e+04],\n",
       "       ...,\n",
       "       [4.68710000e+04, 9.00000000e+00, 2.47086949e+03, ...,\n",
       "        8.54200000e+03, 1.13000000e+02, 5.17573310e+04],\n",
       "       [4.73060000e+04, 9.00000000e+00, 2.27515954e+03, ...,\n",
       "        7.94200000e+03, 2.58550466e+02, 1.60000000e+02],\n",
       "       [5.09510000e+04, 9.00000000e+00, 2.56400000e+03, ...,\n",
       "        7.36600000e+03, 1.13000000e+02, 9.57000000e+02]])"
      ]
     },
     "execution_count": 23,
     "metadata": {},
     "output_type": "execute_result"
    }
   ],
   "source": [
    "new_merged"
   ]
  },
  {
   "cell_type": "code",
   "execution_count": 24,
   "metadata": {
    "execution": {
     "iopub.execute_input": "2020-11-13T20:57:52.871390Z",
     "iopub.status.busy": "2020-11-13T20:57:52.870440Z",
     "iopub.status.idle": "2020-11-13T20:57:52.872970Z",
     "shell.execute_reply": "2020-11-13T20:57:52.873559Z"
    },
    "papermill": {
     "duration": 0.053708,
     "end_time": "2020-11-13T20:57:52.873689",
     "exception": false,
     "start_time": "2020-11-13T20:57:52.819981",
     "status": "completed"
    },
    "tags": []
   },
   "outputs": [],
   "source": [
    "df = pd.DataFrame(data=new_merged, columns=list(merged_df.columns))"
   ]
  },
  {
   "cell_type": "markdown",
   "metadata": {
    "papermill": {
     "duration": 0.04388,
     "end_time": "2020-11-13T20:57:52.966080",
     "exception": false,
     "start_time": "2020-11-13T20:57:52.922200",
     "status": "completed"
    },
    "tags": []
   },
   "source": [
    "# label encoding"
   ]
  },
  {
   "cell_type": "code",
   "execution_count": 25,
   "metadata": {
    "execution": {
     "iopub.execute_input": "2020-11-13T20:57:53.064621Z",
     "iopub.status.busy": "2020-11-13T20:57:53.063385Z",
     "iopub.status.idle": "2020-11-13T20:57:53.174019Z",
     "shell.execute_reply": "2020-11-13T20:57:53.173391Z"
    },
    "papermill": {
     "duration": 0.163201,
     "end_time": "2020-11-13T20:57:53.174161",
     "exception": false,
     "start_time": "2020-11-13T20:57:53.010960",
     "status": "completed"
    },
    "tags": []
   },
   "outputs": [],
   "source": [
    "#Label encode for \"customer_info_1\"\n",
    "from sklearn import preprocessing\n",
    "\n",
    "le = preprocessing.LabelEncoder()\n",
    "cat_columns=[\"customer_info_1\", \"customer_info_2\", \"trans_date\"]\n",
    "\n",
    "label_enc_df=df.copy()\n",
    "for cat in cat_columns:\n",
    "    label_enc_df[cat]=le.fit_transform(label_enc_df[cat])"
   ]
  },
  {
   "cell_type": "markdown",
   "metadata": {
    "papermill": {
     "duration": 0.042623,
     "end_time": "2020-11-13T20:57:53.261099",
     "exception": false,
     "start_time": "2020-11-13T20:57:53.218476",
     "status": "completed"
    },
    "tags": []
   },
   "source": [
    "# one-hot encoding"
   ]
  },
  {
   "cell_type": "code",
   "execution_count": 26,
   "metadata": {
    "execution": {
     "iopub.execute_input": "2020-11-13T20:57:53.369152Z",
     "iopub.status.busy": "2020-11-13T20:57:53.368184Z",
     "iopub.status.idle": "2020-11-13T20:57:53.455593Z",
     "shell.execute_reply": "2020-11-13T20:57:53.455030Z"
    },
    "papermill": {
     "duration": 0.153437,
     "end_time": "2020-11-13T20:57:53.455707",
     "exception": false,
     "start_time": "2020-11-13T20:57:53.302270",
     "status": "completed"
    },
    "tags": []
   },
   "outputs": [],
   "source": [
    "from sklearn.preprocessing import OneHotEncoder\n",
    "enc = OneHotEncoder()\n",
    "\n",
    "onehot_df = pd.get_dummies(data=df, columns=cat_columns)"
   ]
  },
  {
   "cell_type": "code",
   "execution_count": 27,
   "metadata": {
    "execution": {
     "iopub.execute_input": "2020-11-13T20:57:53.543435Z",
     "iopub.status.busy": "2020-11-13T20:57:53.542525Z",
     "iopub.status.idle": "2020-11-13T20:57:53.715641Z",
     "shell.execute_reply": "2020-11-13T20:57:53.714660Z"
    },
    "papermill": {
     "duration": 0.21807,
     "end_time": "2020-11-13T20:57:53.715771",
     "exception": false,
     "start_time": "2020-11-13T20:57:53.497701",
     "status": "completed"
    },
    "tags": []
   },
   "outputs": [
    {
     "name": "stdout",
     "output_type": "stream",
     "text": [
      "customer_id 168600\n",
      "trans_date 10\n",
      "avg_demand_depo_mov 60839\n",
      "avg_balance_last_3 47115\n",
      "num_active_days 19552\n",
      "avg_dem_depo_last_12 51085\n",
      "avg_cct_dining_last_12 42408\n",
      "num_phone_trans_last_12 524\n",
      "num_net_trans_last_3 4252\n",
      "num_net_login_las_12 1911\n",
      "customer_info_1 78\n",
      "customer_info_2 7\n",
      "avg_opfall_balance_total_last_3 171923\n",
      "curr_asset_all_last_30 58323\n",
      "avg_asset_diff_quar 55064\n",
      "total_inco_EFT_last_12 83200\n",
      "max_mat 21939\n",
      "avg_debt_last_1 120460\n",
      "num_days_last_to_open 5454\n",
      "total_deserved_acc 45543\n",
      "tot_0M 21279\n",
      "tot_1M 34137\n",
      "tot_2M 45185\n",
      "tot_3M 49699\n",
      "tot_4M 51543\n",
      "tot_5M 51497\n",
      "tot_6M 51635\n",
      "tot_8M 51588\n",
      "tot_9M 51526\n",
      "tot_10M 51525\n",
      "tot_11M 51509\n",
      "num_cont_debt 6\n",
      "avg_cont_per_month 2678\n",
      "deserved_tot_return 22767\n",
      "age_oldest_contract 17\n",
      "collected_cont 33073\n",
      "days_last_auto_payment 117884\n",
      "avg_mevduat_hesabi_last_12 144187\n"
     ]
    }
   ],
   "source": [
    "for col in list(df.columns):\n",
    "    print(col,df[col].nunique())"
   ]
  },
  {
   "cell_type": "code",
   "execution_count": 28,
   "metadata": {
    "execution": {
     "iopub.execute_input": "2020-11-13T20:57:53.809047Z",
     "iopub.status.busy": "2020-11-13T20:57:53.808414Z",
     "iopub.status.idle": "2020-11-13T20:57:53.812939Z",
     "shell.execute_reply": "2020-11-13T20:57:53.812452Z"
    },
    "papermill": {
     "duration": 0.052443,
     "end_time": "2020-11-13T20:57:53.813038",
     "exception": false,
     "start_time": "2020-11-13T20:57:53.760595",
     "status": "completed"
    },
    "tags": []
   },
   "outputs": [],
   "source": [
    "#split train&test for label_enc_df\n",
    "train_size=len(train)\n",
    "\n",
    "label_enc_train_x=label_enc_df.iloc[:train_size, :]\n",
    "label_enc_train_y=train[\"sum_add_cont_amount\"]\n",
    "\n",
    "label_enc_test=label_enc_df.iloc[train_size: , :]\n",
    "label_enc_test=label_enc_test.reset_index(drop=True)"
   ]
  },
  {
   "cell_type": "code",
   "execution_count": 29,
   "metadata": {
    "execution": {
     "iopub.execute_input": "2020-11-13T20:57:53.905184Z",
     "iopub.status.busy": "2020-11-13T20:57:53.904408Z",
     "iopub.status.idle": "2020-11-13T20:58:02.281617Z",
     "shell.execute_reply": "2020-11-13T20:58:02.282606Z"
    },
    "papermill": {
     "duration": 8.426432,
     "end_time": "2020-11-13T20:58:02.282918",
     "exception": false,
     "start_time": "2020-11-13T20:57:53.856486",
     "status": "completed"
    },
    "tags": []
   },
   "outputs": [
    {
     "name": "stdout",
     "output_type": "stream",
     "text": [
      "label enc score: -7826.1121971026205\n"
     ]
    }
   ],
   "source": [
    "import xgboost as xgb\n",
    "from sklearn.model_selection import cross_val_score\n",
    "\n",
    "default_model=xgb.XGBRegressor(tree_method='gpu_hist', n_estimators=100)\n",
    "result = cross_val_score(default_model, label_enc_train_x, label_enc_train_y, scoring=\"neg_root_mean_squared_error\",cv=5).mean()\n",
    "print(\"label enc score:\", result)"
   ]
  },
  {
   "cell_type": "code",
   "execution_count": 30,
   "metadata": {
    "execution": {
     "iopub.execute_input": "2020-11-13T20:58:02.409051Z",
     "iopub.status.busy": "2020-11-13T20:58:02.408076Z",
     "iopub.status.idle": "2020-11-13T20:58:02.418698Z",
     "shell.execute_reply": "2020-11-13T20:58:02.419480Z"
    },
    "papermill": {
     "duration": 0.076943,
     "end_time": "2020-11-13T20:58:02.419669",
     "exception": false,
     "start_time": "2020-11-13T20:58:02.342726",
     "status": "completed"
    },
    "tags": []
   },
   "outputs": [],
   "source": [
    "#split train&test for label_enc_df\n",
    "train_size=len(train)\n",
    "\n",
    "onehot_train_x=onehot_df.iloc[:train_size, :]\n",
    "onehot_train_y=train[\"sum_add_cont_amount\"]\n",
    "\n",
    "onehot_test=onehot_df.iloc[train_size: , :]\n",
    "onehot_test=onehot_test.reset_index(drop=True)"
   ]
  },
  {
   "cell_type": "code",
   "execution_count": 31,
   "metadata": {
    "execution": {
     "iopub.execute_input": "2020-11-13T20:58:02.528558Z",
     "iopub.status.busy": "2020-11-13T20:58:02.527600Z",
     "iopub.status.idle": "2020-11-13T20:58:12.273386Z",
     "shell.execute_reply": "2020-11-13T20:58:12.272775Z"
    },
    "papermill": {
     "duration": 9.797747,
     "end_time": "2020-11-13T20:58:12.273506",
     "exception": false,
     "start_time": "2020-11-13T20:58:02.475759",
     "status": "completed"
    },
    "tags": []
   },
   "outputs": [
    {
     "name": "stdout",
     "output_type": "stream",
     "text": [
      "onehot enc cv score: -7554.462061959604\n"
     ]
    }
   ],
   "source": [
    "import xgboost as xgb\n",
    "from sklearn.model_selection import cross_val_score\n",
    "\n",
    "default_model2=xgb.XGBRegressor(tree_method='gpu_hist', n_estimators=100)\n",
    "result2 = cross_val_score(default_model2, onehot_train_x, onehot_train_y, scoring=\"neg_root_mean_squared_error\",cv=5).mean()\n",
    "print(\"onehot enc cv score:\", result2)"
   ]
  },
  {
   "cell_type": "code",
   "execution_count": 32,
   "metadata": {
    "execution": {
     "iopub.execute_input": "2020-11-13T20:58:12.394476Z",
     "iopub.status.busy": "2020-11-13T20:58:12.393087Z",
     "iopub.status.idle": "2020-11-13T20:58:15.220922Z",
     "shell.execute_reply": "2020-11-13T20:58:15.221908Z"
    },
    "papermill": {
     "duration": 2.891608,
     "end_time": "2020-11-13T20:58:15.222088",
     "exception": false,
     "start_time": "2020-11-13T20:58:12.330480",
     "status": "completed"
    },
    "tags": []
   },
   "outputs": [],
   "source": [
    "default_model.fit(label_enc_train_x, label_enc_train_y)\n",
    "y_pred=default_model.predict(label_enc_test)\n",
    "default_model2.fit(onehot_train_x, onehot_train_y)\n",
    "y_pred2=default_model2.predict(onehot_test)"
   ]
  },
  {
   "cell_type": "code",
   "execution_count": 33,
   "metadata": {
    "execution": {
     "iopub.execute_input": "2020-11-13T20:58:15.358164Z",
     "iopub.status.busy": "2020-11-13T20:58:15.349809Z",
     "iopub.status.idle": "2020-11-13T20:58:15.744626Z",
     "shell.execute_reply": "2020-11-13T20:58:15.745173Z"
    },
    "papermill": {
     "duration": 0.470267,
     "end_time": "2020-11-13T20:58:15.745342",
     "exception": false,
     "start_time": "2020-11-13T20:58:15.275075",
     "status": "completed"
    },
    "tags": []
   },
   "outputs": [],
   "source": [
    "submission_df1=pd.DataFrame(zip(label_enc_test[\"customer_id\"],y_pred), columns=[\"Id\", \"Predicted\"])\n",
    "submission_df1.to_csv('label_enc.csv', index=False)\n",
    "\n",
    "submission_df2=pd.DataFrame(zip(onehot_test[\"customer_id\"],y_pred2), columns=[\"Id\", \"Predicted\"])\n",
    "submission_df2.to_csv('onehot_enc.csv', index=False)"
   ]
  },
  {
   "cell_type": "markdown",
   "metadata": {
    "papermill": {
     "duration": 0.044754,
     "end_time": "2020-11-13T20:58:15.836247",
     "exception": false,
     "start_time": "2020-11-13T20:58:15.791493",
     "status": "completed"
    },
    "tags": []
   },
   "source": [
    "# QuantileTransformer"
   ]
  },
  {
   "cell_type": "code",
   "execution_count": 34,
   "metadata": {
    "execution": {
     "iopub.execute_input": "2020-11-13T20:58:15.941355Z",
     "iopub.status.busy": "2020-11-13T20:58:15.939485Z",
     "iopub.status.idle": "2020-11-13T20:58:19.738003Z",
     "shell.execute_reply": "2020-11-13T20:58:19.737384Z"
    },
    "papermill": {
     "duration": 3.853785,
     "end_time": "2020-11-13T20:58:19.738129",
     "exception": false,
     "start_time": "2020-11-13T20:58:15.884344",
     "status": "completed"
    },
    "tags": []
   },
   "outputs": [],
   "source": [
    "# here we transform distributions of continuous features to gaussian\n",
    "from sklearn.preprocessing import QuantileTransformer\n",
    "\n",
    "quantile_transformer = QuantileTransformer(output_distribution='normal',random_state=0)\n",
    "quantile_arr = quantile_transformer.fit_transform(onehot_df)\n",
    "quantile_df = pd.DataFrame(quantile_arr, columns=list(onehot_df.columns))"
   ]
  },
  {
   "cell_type": "code",
   "execution_count": 35,
   "metadata": {
    "execution": {
     "iopub.execute_input": "2020-11-13T20:58:19.837794Z",
     "iopub.status.busy": "2020-11-13T20:58:19.836116Z",
     "iopub.status.idle": "2020-11-13T20:58:19.842189Z",
     "shell.execute_reply": "2020-11-13T20:58:19.841654Z"
    },
    "papermill": {
     "duration": 0.05906,
     "end_time": "2020-11-13T20:58:19.842308",
     "exception": false,
     "start_time": "2020-11-13T20:58:19.783248",
     "status": "completed"
    },
    "tags": []
   },
   "outputs": [],
   "source": [
    "#split train&test for quantile_df\n",
    "train_size=len(train)\n",
    "\n",
    "quan_train_x=quantile_df.iloc[:train_size, :]\n",
    "quan_train_y=train[\"sum_add_cont_amount\"]\n",
    "\n",
    "quan_test=quantile_df.iloc[train_size: , :]\n",
    "quan_test=quan_test.reset_index(drop=True)"
   ]
  },
  {
   "cell_type": "code",
   "execution_count": 36,
   "metadata": {
    "execution": {
     "iopub.execute_input": "2020-11-13T20:58:19.938501Z",
     "iopub.status.busy": "2020-11-13T20:58:19.937566Z",
     "iopub.status.idle": "2020-11-13T20:58:29.126396Z",
     "shell.execute_reply": "2020-11-13T20:58:29.125457Z"
    },
    "papermill": {
     "duration": 9.239426,
     "end_time": "2020-11-13T20:58:29.126520",
     "exception": false,
     "start_time": "2020-11-13T20:58:19.887094",
     "status": "completed"
    },
    "tags": []
   },
   "outputs": [
    {
     "name": "stdout",
     "output_type": "stream",
     "text": [
      "quantile cv score: -7554.317942663625\n"
     ]
    }
   ],
   "source": [
    "import xgboost as xgb\n",
    "from sklearn.model_selection import cross_val_score\n",
    "\n",
    "default_model3=xgb.XGBRegressor(tree_method='gpu_hist', n_estimators=100)\n",
    "result3 = cross_val_score(default_model3, quan_train_x, quan_train_y, scoring=\"neg_root_mean_squared_error\",cv=5).mean()\n",
    "print(\"quantile cv score:\", result3)"
   ]
  },
  {
   "cell_type": "code",
   "execution_count": 37,
   "metadata": {
    "execution": {
     "iopub.execute_input": "2020-11-13T20:58:29.251430Z",
     "iopub.status.busy": "2020-11-13T20:58:29.250638Z",
     "iopub.status.idle": "2020-11-13T20:58:31.039288Z",
     "shell.execute_reply": "2020-11-13T20:58:31.039931Z"
    },
    "papermill": {
     "duration": 1.855169,
     "end_time": "2020-11-13T20:58:31.040111",
     "exception": false,
     "start_time": "2020-11-13T20:58:29.184942",
     "status": "completed"
    },
    "tags": []
   },
   "outputs": [],
   "source": [
    "default_model3.fit(quan_train_x, quan_train_y)\n",
    "y_pred3=default_model3.predict(quan_test)"
   ]
  },
  {
   "cell_type": "code",
   "execution_count": 38,
   "metadata": {
    "execution": {
     "iopub.execute_input": "2020-11-13T20:58:31.159902Z",
     "iopub.status.busy": "2020-11-13T20:58:31.159075Z",
     "iopub.status.idle": "2020-11-13T20:58:31.269400Z",
     "shell.execute_reply": "2020-11-13T20:58:31.268329Z"
    },
    "papermill": {
     "duration": 0.17537,
     "end_time": "2020-11-13T20:58:31.269519",
     "exception": false,
     "start_time": "2020-11-13T20:58:31.094149",
     "status": "completed"
    },
    "tags": []
   },
   "outputs": [],
   "source": [
    "submission_df3=pd.DataFrame(zip(onehot_test[\"customer_id\"],y_pred3), columns=[\"Id\", \"Predicted\"])\n",
    "submission_df3.to_csv('quan.csv', index=False)"
   ]
  },
  {
   "cell_type": "code",
   "execution_count": 39,
   "metadata": {
    "execution": {
     "iopub.execute_input": "2020-11-13T20:58:31.373606Z",
     "iopub.status.busy": "2020-11-13T20:58:31.372381Z",
     "iopub.status.idle": "2020-11-13T21:00:58.750937Z",
     "shell.execute_reply": "2020-11-13T21:00:58.750249Z"
    },
    "papermill": {
     "duration": 147.433999,
     "end_time": "2020-11-13T21:00:58.751070",
     "exception": false,
     "start_time": "2020-11-13T20:58:31.317071",
     "status": "completed"
    },
    "tags": []
   },
   "outputs": [],
   "source": [
    "quan_train_x.to_csv('quan_train_x.csv', index=False)\n",
    "quan_train_y.to_csv('quan_train_y.csv', index=False)\n",
    "quan_test.to_csv('quan_test.csv', index=False)\n",
    "\n",
    "label_enc_train_x.to_csv('label_enc_train_x.csv', index=False)\n",
    "label_enc_train_y.to_csv('label_enc_train_y.csv', index=False)\n",
    "label_enc_test.to_csv('label_enc_test.csv', index=False)\n",
    "\n",
    "onehot_train_x.to_csv('onehot_train_x.csv', index=False)\n",
    "onehot_train_y.to_csv('onehot_train_y.csv', index=False)\n",
    "onehot_test.to_csv('onehot_test.csv', index=False)\n",
    "\n",
    "onehot_df.to_csv('onehot_df.csv', index=False)\n",
    "quantile_df.to_csv('quantile_df.csv', index=False)"
   ]
  },
  {
   "cell_type": "code",
   "execution_count": 40,
   "metadata": {
    "execution": {
     "iopub.execute_input": "2020-11-13T21:00:58.850633Z",
     "iopub.status.busy": "2020-11-13T21:00:58.849163Z",
     "iopub.status.idle": "2020-11-13T21:00:58.852222Z",
     "shell.execute_reply": "2020-11-13T21:00:58.851751Z"
    },
    "papermill": {
     "duration": 0.053639,
     "end_time": "2020-11-13T21:00:58.852316",
     "exception": false,
     "start_time": "2020-11-13T21:00:58.798677",
     "status": "completed"
    },
    "tags": []
   },
   "outputs": [],
   "source": [
    "#yukarıdaki grafiklere göre en iyi impute tekniği alınır\n",
    "#merged_x doldurulur\n",
    "#target encode --> trans_date, customer_info_1, customer_info_2, uygulanır\n",
    "#merged_df'ten orijinal train ve test geri al\n",
    "#xgboost denenir\n",
    "#ek_bilgiler, doviz inputları eklenebilir\n",
    "\n",
    "\n",
    "#target encoding --> noise \n",
    "#continuous values --> rankgauss\n",
    "#erto bayesian kodunu al\n"
   ]
  },
  {
   "cell_type": "code",
   "execution_count": null,
   "metadata": {
    "papermill": {
     "duration": 0.044592,
     "end_time": "2020-11-13T21:00:58.941604",
     "exception": false,
     "start_time": "2020-11-13T21:00:58.897012",
     "status": "completed"
    },
    "tags": []
   },
   "outputs": [],
   "source": []
  },
  {
   "cell_type": "code",
   "execution_count": null,
   "metadata": {
    "papermill": {
     "duration": 0.046257,
     "end_time": "2020-11-13T21:00:59.032491",
     "exception": false,
     "start_time": "2020-11-13T21:00:58.986234",
     "status": "completed"
    },
    "tags": []
   },
   "outputs": [],
   "source": []
  },
  {
   "cell_type": "code",
   "execution_count": null,
   "metadata": {
    "papermill": {
     "duration": 0.046137,
     "end_time": "2020-11-13T21:00:59.125314",
     "exception": false,
     "start_time": "2020-11-13T21:00:59.079177",
     "status": "completed"
    },
    "tags": []
   },
   "outputs": [],
   "source": []
  }
 ],
 "metadata": {
  "kernelspec": {
   "display_name": "Python 3",
   "language": "python",
   "name": "python3"
  },
  "language_info": {
   "codemirror_mode": {
    "name": "ipython",
    "version": 3
   },
   "file_extension": ".py",
   "mimetype": "text/x-python",
   "name": "python",
   "nbconvert_exporter": "python",
   "pygments_lexer": "ipython3",
   "version": "3.7.6"
  },
  "papermill": {
   "duration": 308.828721,
   "end_time": "2020-11-13T21:00:59.579524",
   "environment_variables": {},
   "exception": null,
   "input_path": "__notebook__.ipynb",
   "output_path": "__notebook__.ipynb",
   "parameters": {},
   "start_time": "2020-11-13T20:55:50.750803",
   "version": "2.1.0"
  }
 },
 "nbformat": 4,
 "nbformat_minor": 4
}
